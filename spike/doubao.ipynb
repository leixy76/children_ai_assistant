{
 "cells": [
  {
   "cell_type": "markdown",
   "metadata": {},
   "source": [
    "## Doubao API Spike\n",
    "\n",
    "Fist, We need get `ARK_API_KEY`, the `ARK_API_KEY` can be found at https://www.volcengine.com/docs/82379/1263279\n",
    "After found `ARK_API_KEY`, We can set environment variable `ARK_API_KEY` by `echo export ARK_API_KEY=\"YOUR_API_KEY\" >> ~/.zshrc` if we use zsh\n",
    "\n",
    "Second, We need get `MODEL_ENDPOINT_ID` which can be found at https://www.volcengine.com/docs/82379/1263482 .\n",
    "After found `MODEL_ENDPOINT_ID`, We can set environment variable `MODEL_ENDPOINT_ID` by `echo export MODEL_ENDPOINT_ID=\"YOUR_ENDPOINT_ID\" >> ~/.zshrc` if we use zsh\n",
    "\n",
    "Finaly, We need set YOUR_ENDPOINT_ID variable at python"
   ]
  },
  {
   "cell_type": "code",
   "execution_count": null,
   "metadata": {
    "vscode": {
     "languageId": "shellscript"
    }
   },
   "outputs": [],
   "source": [
    "# Setup library\n",
    "!pip install 'volcengine-python-sdk[ark]'"
   ]
  },
  {
   "cell_type": "code",
   "execution_count": 15,
   "metadata": {
    "vscode": {
     "languageId": "shellscript"
    }
   },
   "outputs": [],
   "source": [
    "import os\n",
    "\n",
    "YOUR_ENDPOINT_ID=os.environ.get(\"MODEL_ENDPOINT_ID\")"
   ]
  },
  {
   "cell_type": "code",
   "execution_count": 17,
   "metadata": {},
   "outputs": [
    {
     "name": "stdout",
     "output_type": "stream",
     "text": [
      "----- standard request -----\n",
      "十字花科是植物界中的一个科，包含了许多重要的蔬菜和农作物，以下是一些常见的十字花科植物：  \n",
      "- **白菜**：白菜是十字花科芸薹属植物，在中国各地广泛栽培，为东北及华北冬、春季主要蔬菜。\n",
      "- **萝卜**：萝卜是十字花科萝卜属二年或一年生草本植物，中国各地普遍栽培，可生食、炒食、腌制等。\n",
      "- **芥菜**：芥菜是十字花科芸薹属一年生草本植物，芥菜疙瘩在中国各地栽培，芥菜疙瘩具有特殊的鲜香气味，能增进食欲，帮助消化。\n",
      "- **西兰花**：西兰花是十字花科芸薹属植物，西兰花口感超群，风味鲜美、柔嫩，易消化吸收。\n",
      "- **花椰菜**：花椰菜是十字花科芸薹属植物，花椰菜质地细嫩，味甘鲜美，食后极易消化吸收，其嫩茎纤维，烹炒后柔嫩可口。\n",
      "- **油菜**：油菜是十字花科芸薹属植物，是中国最重要的油料作物和蜜源作物之一，其种子含油量达 35~50%，可以榨油或当作饲料用。\n",
      "\n",
      "十字花科植物在植物界中占有重要地位，不仅是重要的蔬菜和农作物，还具有很高的药用价值。\n"
     ]
    }
   ],
   "source": [
    "import os\n",
    "## Call API to try\n",
    "\n",
    "from volcenginesdkarkruntime import Ark\n",
    "\n",
    "# Authentication\n",
    "# 1.If you authorize your endpoint using an API key, you can set your api key to environment variable \"ARK_API_KEY\"\n",
    "# or specify api key by Ark(api_key=\"${YOUR_API_KEY}\").\n",
    "# Note: If you use an API key, this API key will not be refreshed.\n",
    "# To prevent the API from expiring and failing after some time, choose an API key with no expiration date.\n",
    "\n",
    "# 2.If you authorize your endpoint with Volcengine Identity and Access Management（IAM), set your api key to environment variable \"VOLC_ACCESSKEY\", \"VOLC_SECRETKEY\"\n",
    "# or specify ak&sk by Ark(ak=\"${YOUR_AK}\", sk=\"${YOUR_SK}\").\n",
    "# To get your ak&sk, please refer to this document([https://www.volcengine.com/docs/6291/65568](https://www.volcengine.com/docs/6291/65568))\n",
    "# For more information，please check this document（[https://www.volcengine.com/docs/82379/1263279](https://www.volcengine.com/docs/82379/1263279)）\n",
    "client = Ark()\n",
    "\n",
    "# Non-streaming:    \n",
    "print(\"----- standard request -----\")\n",
    "completion = client.chat.completions.create(\n",
    "    model=YOUR_ENDPOINT_ID,\n",
    "    messages = [\n",
    "        {\"role\": \"system\", \"content\": \"你是豆包，是由字节跳动开发的 AI 人工智能助手\"},\n",
    "        {\"role\": \"user\", \"content\": \"常见的十字花科植物有哪些？\"},\n",
    "    ],\n",
    ")\n",
    "print(completion.choices[0].message.content)\n",
    "\n"
   ]
  },
  {
   "cell_type": "code",
   "execution_count": 19,
   "metadata": {},
   "outputs": [
    {
     "name": "stdout",
     "output_type": "stream",
     "text": [
      "----- streaming request -----\n",
      "十字花科植物约有 375 属，3200 种，广布于全世界温带及寒温带地区，尤以西南地区和西北地区种类最为丰富。中国有 95 属，425 种，124 变种和 9 个变型，全国各地均有分布。以下是一些常见的十字花科植物：\n",
      "1. **白菜**：二年生草本，高 40-60 厘米，常全株无毛，有时叶下面中脉上有少数刺毛。原产于中国北方，是十字花科芸薹属叶用蔬菜，通常指大白菜。引种南方，南北各地均有栽培。十九世纪传入日本、欧美各国。白菜种类很多，北方的大白菜有山东胶州大白菜、北京青白、天津青麻叶大白菜、东北大矮白菜、山西阳城的大毛边等。\n",
      "2. **萝卜**：二年或一年生草本，直根肉质，长圆形、球形或圆锥形，外皮绿色、白色或红色；茎有分枝，无毛，稍具粉霜。萝卜在中国民间素有“小人参”的美称。一到冬天，便成了家家户户饭桌上的常客，现代营养学研究表明，萝卜营养丰富，含有丰富的碳水化合物和多种维生素，其中维生素 C 的含量比梨高 8—10 倍。\n",
      "3. **芥菜**：一年生草本，高 30-150 厘米，常无毛，有时幼茎及叶具刺毛，带粉霜，有辣味；茎直立，有分枝。芥菜是中国著名的特产蔬菜，原产中国，为全国各地栽培的常用蔬菜，多分布于长江以南各省。芥菜的主侧根分布在约 30 厘米的土层内，茎为短缩茎。叶片着生短缩茎上，有椭圆、卵圆、倒卵圆、披针等形状。\n",
      "4. **花椰菜**：二年生草本，高 60-90 厘米，被粉霜。茎直立，粗壮，有分枝。基生叶及下部叶长圆形至椭圆形，长 2-3 次羽状分裂，全缘或具细牙齿，有时叶片下延，具叶柄；茎中上部叶较小且无柄，长圆形至披针形，抱茎。花椰菜为十字花科芸薹属植物，起源于地中海东部海岸，约在 19 世纪初清光绪年间引进中国。\n",
      "5. **油菜**：十字花科，芸薹属植物。植株笔直丛生，茎绿色，基生叶长圆形，有叶柄，总状花序，花黄色鲜，花瓣长圆形，种子球形，褐色。原产于欧洲，在我国各地广泛种植。\n",
      "\n",
      "这只是十字花科植物的一小部分，还有许多其他种类，如芥菜、芜菁、甘蓝、豆瓣菜等。如果你想了解更多关于十字花科植物的信息，可以继续向我提问。\n"
     ]
    }
   ],
   "source": [
    "\n",
    "# Streaming:\n",
    "print(\"----- streaming request -----\")\n",
    "stream = client.chat.completions.create(\n",
    "    model=YOUR_ENDPOINT_ID,\n",
    "    messages = [\n",
    "        {\"role\": \"system\", \"content\": \"你是豆包，是由字节跳动开发的 AI 人工智能助手\"},\n",
    "        {\"role\": \"user\", \"content\": \"常见的十字花科植物有哪些？\"},\n",
    "    ],\n",
    "    stream=True\n",
    ")\n",
    "\n",
    "for chunk in stream:\n",
    "    if not chunk.choices:\n",
    "        continue\n",
    "    print(chunk.choices[0].delta.content, end=\"\")\n",
    "print()"
   ]
  },
  {
   "cell_type": "code",
   "execution_count": 31,
   "metadata": {},
   "outputs": [
    {
     "name": "stdout",
     "output_type": "stream",
     "text": [
      "彩虹是一种美丽的自然现象，通常出现在雨后天空中。它是由阳光穿过雨滴或雾滴时发生折射、反射和内反射等光学原理形成的。当阳光进入雨滴或雾滴时，由于折射的作用，光线会被分解成七种颜色，包括红、橙、黄、绿、蓝、靛、紫。这些颜色会按照一定的顺序排列，形成一个弧形的光谱，这就是我们看到的彩虹。彩虹的颜色鲜艳夺目，非常漂亮，小朋友们看到彩虹一定会很开心的！\n"
     ]
    }
   ],
   "source": [
    "## Change Prompt to setup Children AI Assitant\n",
    "\n",
    "stream = client.chat.completions.create(\n",
    "    model=YOUR_ENDPOINT_ID,\n",
    "    messages = [\n",
    "        {\"role\": \"system\", \"content\": \"你是知识渊博的幼儿园老师，专门用于回答2到6岁小朋友的各种问题，需要用小朋友能够听懂的语言跟小朋友互动\"},\n",
    "        {\"role\": \"user\", \"content\": \"彩虹是什么\"},\n",
    "    ],\n",
    "    stream=True\n",
    ")\n",
    "\n",
    "for chunk in stream:\n",
    "    if not chunk.choices:\n",
    "        continue\n",
    "    print(chunk.choices[0].delta.content, end=\"\")\n",
    "print()"
   ]
  }
 ],
 "metadata": {
  "kernelspec": {
   "display_name": "Python 3",
   "language": "python",
   "name": "python3"
  },
  "language_info": {
   "codemirror_mode": {
    "name": "ipython",
    "version": 3
   },
   "file_extension": ".py",
   "mimetype": "text/x-python",
   "name": "python",
   "nbconvert_exporter": "python",
   "pygments_lexer": "ipython3",
   "version": "3.12.4"
  }
 },
 "nbformat": 4,
 "nbformat_minor": 2
}
