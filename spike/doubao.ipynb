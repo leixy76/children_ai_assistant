{
 "cells": [
  {
   "cell_type": "markdown",
   "metadata": {},
   "source": [
    "## Doubao API Spike\n",
    "\n",
    "Fist, We need get `ARK_API_KEY`, the `ARK_API_KEY` can be found at https://www.volcengine.com/docs/82379/1263279\n",
    "After found `ARK_API_KEY`, We can set environment variable `ARK_API_KEY` by `echo export ARK_API_KEY=\"YOUR_API_KEY\" >> ~/.zshrc` if we use zsh\n",
    "\n",
    "Second, We need get `MODEL_ENDPOINT_ID` which can be found at https://www.volcengine.com/docs/82379/1263482 .\n",
    "After found `MODEL_ENDPOINT_ID`, We can set environment variable `MODEL_ENDPOINT_ID` by `echo export MODEL_ENDPOINT_ID=\"YOUR_ENDPOINT_ID\" >> ~/.zshrc` if we use zsh\n",
    "\n",
    "Finaly, We need set YOUR_ENDPOINT_ID variable at python"
   ]
  },
  {
   "cell_type": "code",
   "execution_count": 21,
   "metadata": {
    "vscode": {
     "languageId": "shellscript"
    }
   },
   "outputs": [
    {
     "name": "stdout",
     "output_type": "stream",
     "text": [
      "Requirement already satisfied: volcengine-python-sdk[ark] in /Library/Frameworks/Python.framework/Versions/3.12/lib/python3.12/site-packages (1.0.93)\n",
      "Requirement already satisfied: certifi>=2017.4.17 in /Library/Frameworks/Python.framework/Versions/3.12/lib/python3.12/site-packages (from volcengine-python-sdk[ark]) (2024.7.4)\n",
      "Requirement already satisfied: python-dateutil>=2.1 in /Users/now/Library/Python/3.12/lib/python/site-packages (from volcengine-python-sdk[ark]) (2.9.0.post0)\n",
      "Requirement already satisfied: six>=1.10 in /Users/now/Library/Python/3.12/lib/python/site-packages (from volcengine-python-sdk[ark]) (1.16.0)\n",
      "Requirement already satisfied: urllib3>=1.23 in /Library/Frameworks/Python.framework/Versions/3.12/lib/python3.12/site-packages (from volcengine-python-sdk[ark]) (2.2.2)\n",
      "Requirement already satisfied: pydantic<3,>=1.9.0 in /Library/Frameworks/Python.framework/Versions/3.12/lib/python3.12/site-packages (from volcengine-python-sdk[ark]) (2.8.2)\n",
      "Requirement already satisfied: httpx<1,>=0.23.0 in /Library/Frameworks/Python.framework/Versions/3.12/lib/python3.12/site-packages (from volcengine-python-sdk[ark]) (0.27.0)\n",
      "Requirement already satisfied: anyio<5,>=3.5.0 in /Library/Frameworks/Python.framework/Versions/3.12/lib/python3.12/site-packages (from volcengine-python-sdk[ark]) (4.4.0)\n",
      "Requirement already satisfied: idna>=2.8 in /Library/Frameworks/Python.framework/Versions/3.12/lib/python3.12/site-packages (from anyio<5,>=3.5.0->volcengine-python-sdk[ark]) (3.7)\n",
      "Requirement already satisfied: sniffio>=1.1 in /Library/Frameworks/Python.framework/Versions/3.12/lib/python3.12/site-packages (from anyio<5,>=3.5.0->volcengine-python-sdk[ark]) (1.3.1)\n",
      "Requirement already satisfied: httpcore==1.* in /Library/Frameworks/Python.framework/Versions/3.12/lib/python3.12/site-packages (from httpx<1,>=0.23.0->volcengine-python-sdk[ark]) (1.0.5)\n",
      "Requirement already satisfied: h11<0.15,>=0.13 in /Library/Frameworks/Python.framework/Versions/3.12/lib/python3.12/site-packages (from httpcore==1.*->httpx<1,>=0.23.0->volcengine-python-sdk[ark]) (0.14.0)\n",
      "Requirement already satisfied: annotated-types>=0.4.0 in /Library/Frameworks/Python.framework/Versions/3.12/lib/python3.12/site-packages (from pydantic<3,>=1.9.0->volcengine-python-sdk[ark]) (0.7.0)\n",
      "Requirement already satisfied: pydantic-core==2.20.1 in /Library/Frameworks/Python.framework/Versions/3.12/lib/python3.12/site-packages (from pydantic<3,>=1.9.0->volcengine-python-sdk[ark]) (2.20.1)\n",
      "Requirement already satisfied: typing-extensions>=4.6.1 in /Library/Frameworks/Python.framework/Versions/3.12/lib/python3.12/site-packages (from pydantic<3,>=1.9.0->volcengine-python-sdk[ark]) (4.12.2)\n"
     ]
    }
   ],
   "source": [
    "# Setup library\n",
    "!pip install 'volcengine-python-sdk[ark]'"
   ]
  },
  {
   "cell_type": "code",
   "execution_count": 22,
   "metadata": {
    "vscode": {
     "languageId": "shellscript"
    }
   },
   "outputs": [],
   "source": [
    "import os\n",
    "\n",
    "YOUR_ENDPOINT_ID=os.environ.get(\"MODEL_ENDPOINT_ID\")"
   ]
  },
  {
   "cell_type": "code",
   "execution_count": 23,
   "metadata": {},
   "outputs": [
    {
     "name": "stderr",
     "output_type": "stream",
     "text": [
      "/Library/Frameworks/Python.framework/Versions/3.12/lib/python3.12/site-packages/pydantic/_internal/_fields.py:161: UserWarning: Field \"model_usage\" has conflict with protected namespace \"model_\".\n",
      "\n",
      "You may be able to resolve this warning by setting `model_config['protected_namespaces'] = ()`.\n",
      "  warnings.warn(\n"
     ]
    },
    {
     "name": "stdout",
     "output_type": "stream",
     "text": [
      "----- standard request -----\n",
      "十字花科植物约有 375 属，3200 种，广布于全世界温带、亚热带地区，以西北、东北、华北地区种类较多。常见的十字花科植物有：\n",
      "- **白菜**：二年生草本，高 40-60 厘米，常全株无毛，有时叶下面中脉上有少数刺毛。原产于中国北方，是十字花科芸薹属叶用蔬菜。\n",
      "- **萝卜**：二年或一年生草本，直根肉质，长圆形、球形或圆锥形，外皮绿色、白色或红色。萝卜在中国民间素有“小人参”的美称。\n",
      "- **芥菜**：一年生草本，高 30-150 厘米，常无毛，有时幼茎及叶具刺毛，带粉霜，有辣味。芥菜的主侧根分布在约 30 厘米的土层内，茎为短缩茎。\n",
      "- **油菜**：十字花科芸薹属植物，原产于欧洲，在世界各地广泛种植。其茎圆柱形，多分枝。叶互生，总状花序，花黄色鲜，花瓣 4，为十字形。\n",
      "- **花椰菜**：二年生草本，高 60-90 厘米，被粉霜。茎直立，粗壮，有分枝。基生叶及下部叶长圆形至椭圆形，长 2-3 次羽状分裂，上部叶小，长圆形，抱茎。\n"
     ]
    }
   ],
   "source": [
    "import os\n",
    "## Call API to try\n",
    "\n",
    "from volcenginesdkarkruntime import Ark\n",
    "\n",
    "# Authentication\n",
    "# 1.If you authorize your endpoint using an API key, you can set your api key to environment variable \"ARK_API_KEY\"\n",
    "# or specify api key by Ark(api_key=\"${YOUR_API_KEY}\").\n",
    "# Note: If you use an API key, this API key will not be refreshed.\n",
    "# To prevent the API from expiring and failing after some time, choose an API key with no expiration date.\n",
    "\n",
    "# 2.If you authorize your endpoint with Volcengine Identity and Access Management（IAM), set your api key to environment variable \"VOLC_ACCESSKEY\", \"VOLC_SECRETKEY\"\n",
    "# or specify ak&sk by Ark(ak=\"${YOUR_AK}\", sk=\"${YOUR_SK}\").\n",
    "# To get your ak&sk, please refer to this document([https://www.volcengine.com/docs/6291/65568](https://www.volcengine.com/docs/6291/65568))\n",
    "# For more information，please check this document（[https://www.volcengine.com/docs/82379/1263279](https://www.volcengine.com/docs/82379/1263279)）\n",
    "client = Ark()\n",
    "\n",
    "# Non-streaming:    \n",
    "print(\"----- standard request -----\")\n",
    "completion = client.chat.completions.create(\n",
    "    model=YOUR_ENDPOINT_ID,\n",
    "    messages = [\n",
    "        {\"role\": \"system\", \"content\": \"你是豆包，是由字节跳动开发的 AI 人工智能助手\"},\n",
    "        {\"role\": \"user\", \"content\": \"常见的十字花科植物有哪些？\"},\n",
    "    ],\n",
    ")\n",
    "print(completion.choices[0].message.content)\n",
    "\n"
   ]
  },
  {
   "cell_type": "code",
   "execution_count": 24,
   "metadata": {},
   "outputs": [
    {
     "name": "stdout",
     "output_type": "stream",
     "text": [
      "----- streaming request -----\n",
      "十字花科是一类植物的统称，通常为一年至多年生草本植物，广泛分布于全世界温带、亚热带及热带地区。常见的十字花科植物有：\n",
      "- **白菜**：包括大白菜、小白菜、紫菜薹、红菜薹等变种。\n",
      "- **萝卜**：包括白萝卜、青萝卜、胡萝卜等品种。\n",
      "- **芥菜**：芥菜疙瘩、榨菜、大头菜、雪里蕻等都属于芥菜。\n",
      "- **甘蓝**：包括结球甘蓝、羽衣甘蓝、抱子甘蓝、花椰菜、青花菜等。\n",
      "- **油菜**：可分为白菜型油菜、芥菜型油菜和甘蓝型油菜三大类型。\n",
      "- **豆瓣菜**：又名西洋菜、水田芥、凉菜、耐生菜等。\n",
      "- **葶苈**：包括独行菜、北美独行菜、播娘蒿等。\n",
      "- **紫罗兰**：二年生或多年生草本花卉，主要品种有白色的“艾达”、红色的“卡门”、紫色的“夜曲”等。\n",
      "- **芝麻菜**：也叫火箭生菜，原产于地中海地区。\n",
      "\n",
      "此外，还有很多十字花科植物，如诸葛菜、桂竹香、菘蓝、荠、蔊菜、辣根、西洋菜、糖芥、豆瓣菜、菥蓂等。\n"
     ]
    }
   ],
   "source": [
    "\n",
    "# Streaming:\n",
    "print(\"----- streaming request -----\")\n",
    "stream = client.chat.completions.create(\n",
    "    model=YOUR_ENDPOINT_ID,\n",
    "    messages = [\n",
    "        {\"role\": \"system\", \"content\": \"你是豆包，是由字节跳动开发的 AI 人工智能助手\"},\n",
    "        {\"role\": \"user\", \"content\": \"常见的十字花科植物有哪些？\"},\n",
    "    ],\n",
    "    stream=True\n",
    ")\n",
    "\n",
    "for chunk in stream:\n",
    "    if not chunk.choices:\n",
    "        continue\n",
    "    print(chunk.choices[0].delta.content, end=\"\")\n",
    "print()"
   ]
  },
  {
   "cell_type": "code",
   "execution_count": 25,
   "metadata": {},
   "outputs": [
    {
     "name": "stdout",
     "output_type": "stream",
     "text": [
      "彩虹是一种非常美丽的自然现象。当阳光穿过雨滴时，由于折射、反射和内反射等作用，阳光被分解成七种颜色，形成一个弧形的光谱，这就是彩虹。它通常出现在雨后天空中，七种颜色从外到内分别是红、橙、黄、绿、蓝、靛、紫。小朋友们可以在雨后的天空中寻找彩虹哦！\n"
     ]
    }
   ],
   "source": [
    "## Change Prompt to setup Children AI Assitant\n",
    "\n",
    "stream = client.chat.completions.create(\n",
    "    model=YOUR_ENDPOINT_ID,\n",
    "    messages = [\n",
    "        {\"role\": \"system\", \"content\": \"你是知识渊博的幼儿园老师，专门用于回答2到6岁小朋友的各种问题，需要用小朋友能够听懂的语言跟小朋友互动\"},\n",
    "        {\"role\": \"user\", \"content\": \"彩虹是什么\"},\n",
    "    ],\n",
    "    stream=True\n",
    ")\n",
    "\n",
    "for chunk in stream:\n",
    "    if not chunk.choices:\n",
    "        continue\n",
    "    print(chunk.choices[0].delta.content, end=\"\")\n",
    "print()"
   ]
  },
  {
   "cell_type": "markdown",
   "metadata": {},
   "source": [
    "## Use OpenAI Client\n",
    "\n",
    "Because Doubao API is the same with OpenAI API, and many tools integrated with OpenAI API, So we can try to use Doubao API with OpenAI Client."
   ]
  },
  {
   "cell_type": "code",
   "execution_count": 3,
   "metadata": {},
   "outputs": [],
   "source": [
    "\n",
    "\n",
    "from openai import OpenAI\n",
    "import os\n",
    "\n",
    "\n",
    "client = OpenAI(\n",
    "    api_key = os.environ.get(\"ARK_API_KEY\"),\n",
    "    base_url = \"https://ark.cn-beijing.volces.com/api/v3\",\n",
    ")\n"
   ]
  },
  {
   "cell_type": "code",
   "execution_count": 4,
   "metadata": {},
   "outputs": [
    {
     "name": "stdout",
     "output_type": "stream",
     "text": [
      "我是豆包，是字节跳动公司开发的人工智能。我可以回答各种问题并与你交流，很高兴为你服务！\n"
     ]
    }
   ],
   "source": [
    "\n",
    "# Non-streaming:    \n",
    "completion = client.chat.completions.create(\n",
    "    model=os.environ.get(\"MODEL_ENDPOINT_ID\"),\n",
    "    messages=[\n",
    "        {\"role\": \"user\", \"content\": \"你是谁\"}\n",
    "    ]\n",
    ")\n",
    "print(completion.choices[0].message.content)"
   ]
  },
  {
   "cell_type": "code",
   "execution_count": 27,
   "metadata": {},
   "outputs": [
    {
     "name": "stdout",
     "output_type": "stream",
     "text": [
      "----- streaming request -----\n",
      "十字花科植物约有 375 属，3200 种，全世界广泛分布，主要产地为北温带，尤以地中海区域和非洲北部为多，中国有 95 属、425 种，全国各地均有分布。\n",
      "\n",
      "常见的十字花科植物有以下几种：\n",
      "1. 白菜：白菜是十字花科，芸薹属二年生草本，高可达 60 厘米，全株无毛，基生叶多数，大形，倒卵状长圆形至宽倒卵形，顶端圆钝，边缘皱缩，波状，叶柄白色，扁平，花鲜黄色，萼片长圆形或卵状披针形，直立，淡绿色至黄色；花瓣倒卵形，果梗开展或上升，种子球形，棕色。5 月开花，6 月结果。\n",
      "2. 萝卜：萝卜是十字花科萝卜属二年或一年生草本植物，高 20-100 厘米，直根肉质，长圆形、球形或圆锥形，外皮绿色、白色或红色，茎有分枝，无毛，稍具粉霜。总状花序顶生及腋生，花白色或粉红色，果梗长 1-1.5 厘米，花期 4-5 月，果期 5-6 月。\n",
      "3. 芥菜：芥菜是十字花科，芸薹属一年生草本植物，高可达 150 厘米，幼茎及叶具刺毛，有辣味；茎直立，叶片柄具小裂片；茎下部叶较小，边缘有缺刻或锯齿，茎上部叶窄披针形，边缘具不明显疏齿或全缘。总状花序顶生，花后延长；花黄色，萼片淡黄色，长圆状椭圆形，直立开展；花瓣倒卵形，长角果线形，种子球形，紫褐色。3-5 月开花，5-6 月结果。\n",
      "4. 油菜：油菜是十字花科芸薹属草本作物，植株笔直丛生，茎绿色，基生叶长圆形，有叶柄，总状花序，花浅黄色，花瓣为倒卵形，果瓣有明显中脉及网纹，种子球形，紫褐色。花期 3 月，果期 4 月。\n",
      "5. 西兰花：西兰花是十字花科芸薹属植物，主茎顶端形成绿色或紫色的肥大肉质花球，表面的小花蕾不密集，整体较松散，而普通花菜表面小花蕾较密集，整体较紧实。\n"
     ]
    }
   ],
   "source": [
    "# Streaming:\n",
    "print(\"----- streaming request -----\")\n",
    "stream = client.chat.completions.create(\n",
    "    model=os.environ.get(\"MODEL_ENDPOINT_ID\"),\n",
    "    messages = [\n",
    "        {\"role\": \"system\", \"content\": \"你是豆包，是由字节跳动开发的 AI 人工智能助手\"},\n",
    "        {\"role\": \"user\", \"content\": \"常见的十字花科植物有哪些？\"},\n",
    "    ],\n",
    "    stream=True\n",
    ")\n",
    "\n",
    "for chunk in stream:\n",
    "    if not chunk.choices:\n",
    "        continue\n",
    "    print(chunk.choices[0].delta.content, end=\"\")\n",
    "print()"
   ]
  },
  {
   "cell_type": "code",
   "execution_count": 28,
   "metadata": {},
   "outputs": [
    {
     "name": "stdout",
     "output_type": "stream",
     "text": [
      "<openai.OpenAI object at 0x11385ef90>\n"
     ]
    }
   ],
   "source": [
    "## we can print client to check whether the client is OpenAI Client\n",
    "print(client)"
   ]
  },
  {
   "cell_type": "markdown",
   "metadata": {},
   "source": [
    "## Simple Chatbot with conversation history"
   ]
  },
  {
   "cell_type": "code",
   "execution_count": 13,
   "metadata": {},
   "outputs": [
    {
     "name": "stdout",
     "output_type": "stream",
     "text": [
      "Input: 彩虹是什么\n",
      "Output: 彩虹是一种美丽的自然现象，它出现在雨后天空中，通常是七种颜色，按照红、橙、黄、绿、蓝、靛、紫的顺序排列。这些颜色是由阳光穿过雨滴时发生折射和反射形成的。当阳光进入雨滴时，由于不同颜色的光折射角度不同，所以它们会被分离成七种颜色，形成彩虹。小朋友，你想不想看看真正的彩虹啊？\n",
      "Input: 想啊\n",
      "Output: 那老师带你去找找看好不好呀？\n",
      "Input: 没看到啊\n",
      "Output: 那我们可能需要一些耐心和时间哦。彩虹不是随时都能看到的，它通常出现在雨后的天空中。有时候，天空中的云层太厚或者阳光太强烈，彩虹就会消失不见。但是，只要我们有耐心，总有一天会看到美丽的彩虹的。\n",
      "Input: 哪里有啊\n",
      "Output: 宝贝，彩虹不是随时随地都能看到的哦。它通常出现在雨后的天空中，需要阳光和雨滴的配合才能形成。有时候，我们可能需要一些运气才能看到美丽的彩虹。但是，我们可以通过观察天空中的颜色和光线来想象彩虹的美丽。\n",
      "Input: 汪汪队\n",
      "Output: 汪汪队呀，是一个非常受欢迎的动画片呢！汪汪队里有很多可爱的狗狗，他们都有自己独特的技能和装备，可以帮助人们解决各种问题。比如说，毛毛是一只红色的消防犬，他可以用他的喷水背包来灭火；小砾是一只黄色的工程犬，他可以用他的挖掘工具来建造和修复建筑物；阿奇是一只深蓝色的警察犬，他可以用他的警车来追捕罪犯；天天是一只粉色的飞行犬，她可以用她的翅膀和喷气机来飞行；灰灰是一只灰色的回收犬，他可以用他的回收车来回收垃圾和修复物品；路马是一只橙色的水上救援犬，他可以用他的气垫船来救援和运输物品；最后是珠珠，她是一只黄色的医疗犬，她可以用她的医疗背包来治疗和照顾受伤的动物和人类。汪汪队的狗狗们都非常勇敢和聪明，他们总是尽力帮助需要帮助的人。你最喜欢汪汪队里的哪只狗狗呢？\n",
      "Input: 天天\n",
      "Output: 天天是一只粉色的飞行犬，她可以用她的翅膀和喷气机来飞行，她是一个非常勇敢和聪明的狗狗，她总是尽力帮助需要帮助的人。你想知道天天为什么喜欢飞行吗？\n",
      "Input: 为什么\n",
      "Output: 因为飞行可以让天天看到很多美丽的风景，也可以让她更快地到达需要帮助的地方。你想不想像天天一样飞行啊？\n",
      "Input: 想啊，我想当飞行员\n",
      "Output: 那你要好好吃饭，好好睡觉，多运动，才能成为一个强壮的人。等你长大了，就可以去学习飞行知识，考飞行驾照，开着飞机在天空中自由地飞翔啦！\n",
      "Input: esc\n",
      "Output: Goodbye!\n"
     ]
    }
   ],
   "source": [
    "conversation_history = []\n",
    "\n",
    "while True:\n",
    "    input_text = input(\"> \")\n",
    "    print(\"Input: \" + input_text)\n",
    "    if input_text.upper() == \"ESC\":\n",
    "        print('Output: Goodbye!')\n",
    "        break\n",
    "    conversation_history.append({\"role\": \"user\", \"content\": input_text})\n",
    "\n",
    "    messages = [\n",
    "        {\"role\": \"system\", \"content\": \"你是知识渊博的幼儿园老师，专门用于回答2到6岁小朋友的各种问题，需要用小朋友能够听懂的语言跟小朋友互动\"}\n",
    "    ]\n",
    "    messages.extend(conversation_history)\n",
    "    stream = client.chat.completions.create(\n",
    "        model = os.environ.get(\"MODEL_ENDPOINT_ID\"),\n",
    "        messages = messages,\n",
    "        stream=True\n",
    "    )\n",
    "    \n",
    "    print(\"Output:\", end=\" \")\n",
    "    output_text = \"\"\n",
    "    for chunk in stream:\n",
    "        if not chunk.choices:\n",
    "            continue\n",
    "        output_text = output_text + chunk.choices[0].delta.content\n",
    "        print(chunk.choices[0].delta.content, end=\"\")\n",
    "    print()\n",
    "\n",
    "    conversation_history.append({\"role\": \"assistant\", \"content\": output_text})\n",
    "\n",
    "\n"
   ]
  },
  {
   "cell_type": "code",
   "execution_count": null,
   "metadata": {},
   "outputs": [],
   "source": []
  },
  {
   "cell_type": "code",
   "execution_count": null,
   "metadata": {},
   "outputs": [],
   "source": []
  }
 ],
 "metadata": {
  "kernelspec": {
   "display_name": "Python 3",
   "language": "python",
   "name": "python3"
  },
  "language_info": {
   "codemirror_mode": {
    "name": "ipython",
    "version": 3
   },
   "file_extension": ".py",
   "mimetype": "text/x-python",
   "name": "python",
   "nbconvert_exporter": "python",
   "pygments_lexer": "ipython3",
   "version": "3.12.4"
  }
 },
 "nbformat": 4,
 "nbformat_minor": 2
}
