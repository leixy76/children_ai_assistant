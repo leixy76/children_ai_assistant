{
 "cells": [
  {
   "cell_type": "markdown",
   "metadata": {},
   "source": [
    "## Doubao API Spike\n",
    "\n",
    "Fist, We need get `ARK_API_KEY`, the `ARK_API_KEY` can be found at https://www.volcengine.com/docs/82379/1263279\n",
    "After found `ARK_API_KEY`, We can set environment variable `ARK_API_KEY` by `echo export ARK_API_KEY=\"YOUR_API_KEY\" >> ~/.zshrc` if we use zsh\n",
    "\n",
    "Second, We need get `MODEL_ENDPOINT_ID` which can be found at https://www.volcengine.com/docs/82379/1263482 .\n",
    "After found `MODEL_ENDPOINT_ID`, We can set environment variable `MODEL_ENDPOINT_ID` by `echo export MODEL_ENDPOINT_ID=\"YOUR_ENDPOINT_ID\" >> ~/.zshrc` if we use zsh\n",
    "\n",
    "Finaly, We need set YOUR_ENDPOINT_ID variable at python"
   ]
  },
  {
   "cell_type": "code",
   "execution_count": 21,
   "metadata": {
    "vscode": {
     "languageId": "shellscript"
    }
   },
   "outputs": [
    {
     "name": "stdout",
     "output_type": "stream",
     "text": [
      "Requirement already satisfied: volcengine-python-sdk[ark] in /Library/Frameworks/Python.framework/Versions/3.12/lib/python3.12/site-packages (1.0.93)\n",
      "Requirement already satisfied: certifi>=2017.4.17 in /Library/Frameworks/Python.framework/Versions/3.12/lib/python3.12/site-packages (from volcengine-python-sdk[ark]) (2024.7.4)\n",
      "Requirement already satisfied: python-dateutil>=2.1 in /Users/now/Library/Python/3.12/lib/python/site-packages (from volcengine-python-sdk[ark]) (2.9.0.post0)\n",
      "Requirement already satisfied: six>=1.10 in /Users/now/Library/Python/3.12/lib/python/site-packages (from volcengine-python-sdk[ark]) (1.16.0)\n",
      "Requirement already satisfied: urllib3>=1.23 in /Library/Frameworks/Python.framework/Versions/3.12/lib/python3.12/site-packages (from volcengine-python-sdk[ark]) (2.2.2)\n",
      "Requirement already satisfied: pydantic<3,>=1.9.0 in /Library/Frameworks/Python.framework/Versions/3.12/lib/python3.12/site-packages (from volcengine-python-sdk[ark]) (2.8.2)\n",
      "Requirement already satisfied: httpx<1,>=0.23.0 in /Library/Frameworks/Python.framework/Versions/3.12/lib/python3.12/site-packages (from volcengine-python-sdk[ark]) (0.27.0)\n",
      "Requirement already satisfied: anyio<5,>=3.5.0 in /Library/Frameworks/Python.framework/Versions/3.12/lib/python3.12/site-packages (from volcengine-python-sdk[ark]) (4.4.0)\n",
      "Requirement already satisfied: idna>=2.8 in /Library/Frameworks/Python.framework/Versions/3.12/lib/python3.12/site-packages (from anyio<5,>=3.5.0->volcengine-python-sdk[ark]) (3.7)\n",
      "Requirement already satisfied: sniffio>=1.1 in /Library/Frameworks/Python.framework/Versions/3.12/lib/python3.12/site-packages (from anyio<5,>=3.5.0->volcengine-python-sdk[ark]) (1.3.1)\n",
      "Requirement already satisfied: httpcore==1.* in /Library/Frameworks/Python.framework/Versions/3.12/lib/python3.12/site-packages (from httpx<1,>=0.23.0->volcengine-python-sdk[ark]) (1.0.5)\n",
      "Requirement already satisfied: h11<0.15,>=0.13 in /Library/Frameworks/Python.framework/Versions/3.12/lib/python3.12/site-packages (from httpcore==1.*->httpx<1,>=0.23.0->volcengine-python-sdk[ark]) (0.14.0)\n",
      "Requirement already satisfied: annotated-types>=0.4.0 in /Library/Frameworks/Python.framework/Versions/3.12/lib/python3.12/site-packages (from pydantic<3,>=1.9.0->volcengine-python-sdk[ark]) (0.7.0)\n",
      "Requirement already satisfied: pydantic-core==2.20.1 in /Library/Frameworks/Python.framework/Versions/3.12/lib/python3.12/site-packages (from pydantic<3,>=1.9.0->volcengine-python-sdk[ark]) (2.20.1)\n",
      "Requirement already satisfied: typing-extensions>=4.6.1 in /Library/Frameworks/Python.framework/Versions/3.12/lib/python3.12/site-packages (from pydantic<3,>=1.9.0->volcengine-python-sdk[ark]) (4.12.2)\n"
     ]
    }
   ],
   "source": [
    "# Setup library\n",
    "!pip install 'volcengine-python-sdk[ark]'"
   ]
  },
  {
   "cell_type": "code",
   "execution_count": 22,
   "metadata": {
    "vscode": {
     "languageId": "shellscript"
    }
   },
   "outputs": [],
   "source": [
    "import os\n",
    "\n",
    "YOUR_ENDPOINT_ID=os.environ.get(\"MODEL_ENDPOINT_ID\")"
   ]
  },
  {
   "cell_type": "code",
   "execution_count": 23,
   "metadata": {},
   "outputs": [
    {
     "name": "stderr",
     "output_type": "stream",
     "text": [
      "/Library/Frameworks/Python.framework/Versions/3.12/lib/python3.12/site-packages/pydantic/_internal/_fields.py:161: UserWarning: Field \"model_usage\" has conflict with protected namespace \"model_\".\n",
      "\n",
      "You may be able to resolve this warning by setting `model_config['protected_namespaces'] = ()`.\n",
      "  warnings.warn(\n"
     ]
    },
    {
     "name": "stdout",
     "output_type": "stream",
     "text": [
      "----- standard request -----\n",
      "十字花科植物约有 375 属，3200 种，广布于全世界温带、亚热带地区，以西北、东北、华北地区种类较多。常见的十字花科植物有：\n",
      "- **白菜**：二年生草本，高 40-60 厘米，常全株无毛，有时叶下面中脉上有少数刺毛。原产于中国北方，是十字花科芸薹属叶用蔬菜。\n",
      "- **萝卜**：二年或一年生草本，直根肉质，长圆形、球形或圆锥形，外皮绿色、白色或红色。萝卜在中国民间素有“小人参”的美称。\n",
      "- **芥菜**：一年生草本，高 30-150 厘米，常无毛，有时幼茎及叶具刺毛，带粉霜，有辣味。芥菜的主侧根分布在约 30 厘米的土层内，茎为短缩茎。\n",
      "- **油菜**：十字花科芸薹属植物，原产于欧洲，在世界各地广泛种植。其茎圆柱形，多分枝。叶互生，总状花序，花黄色鲜，花瓣 4，为十字形。\n",
      "- **花椰菜**：二年生草本，高 60-90 厘米，被粉霜。茎直立，粗壮，有分枝。基生叶及下部叶长圆形至椭圆形，长 2-3 次羽状分裂，上部叶小，长圆形，抱茎。\n"
     ]
    }
   ],
   "source": [
    "import os\n",
    "## Call API to try\n",
    "\n",
    "from volcenginesdkarkruntime import Ark\n",
    "\n",
    "# Authentication\n",
    "# 1.If you authorize your endpoint using an API key, you can set your api key to environment variable \"ARK_API_KEY\"\n",
    "# or specify api key by Ark(api_key=\"${YOUR_API_KEY}\").\n",
    "# Note: If you use an API key, this API key will not be refreshed.\n",
    "# To prevent the API from expiring and failing after some time, choose an API key with no expiration date.\n",
    "\n",
    "# 2.If you authorize your endpoint with Volcengine Identity and Access Management（IAM), set your api key to environment variable \"VOLC_ACCESSKEY\", \"VOLC_SECRETKEY\"\n",
    "# or specify ak&sk by Ark(ak=\"${YOUR_AK}\", sk=\"${YOUR_SK}\").\n",
    "# To get your ak&sk, please refer to this document([https://www.volcengine.com/docs/6291/65568](https://www.volcengine.com/docs/6291/65568))\n",
    "# For more information，please check this document（[https://www.volcengine.com/docs/82379/1263279](https://www.volcengine.com/docs/82379/1263279)）\n",
    "client = Ark()\n",
    "\n",
    "# Non-streaming:    \n",
    "print(\"----- standard request -----\")\n",
    "completion = client.chat.completions.create(\n",
    "    model=YOUR_ENDPOINT_ID,\n",
    "    messages = [\n",
    "        {\"role\": \"system\", \"content\": \"你是豆包，是由字节跳动开发的 AI 人工智能助手\"},\n",
    "        {\"role\": \"user\", \"content\": \"常见的十字花科植物有哪些？\"},\n",
    "    ],\n",
    ")\n",
    "print(completion.choices[0].message.content)\n",
    "\n"
   ]
  },
  {
   "cell_type": "code",
   "execution_count": 24,
   "metadata": {},
   "outputs": [
    {
     "name": "stdout",
     "output_type": "stream",
     "text": [
      "----- streaming request -----\n",
      "十字花科是一类植物的统称，通常为一年至多年生草本植物，广泛分布于全世界温带、亚热带及热带地区。常见的十字花科植物有：\n",
      "- **白菜**：包括大白菜、小白菜、紫菜薹、红菜薹等变种。\n",
      "- **萝卜**：包括白萝卜、青萝卜、胡萝卜等品种。\n",
      "- **芥菜**：芥菜疙瘩、榨菜、大头菜、雪里蕻等都属于芥菜。\n",
      "- **甘蓝**：包括结球甘蓝、羽衣甘蓝、抱子甘蓝、花椰菜、青花菜等。\n",
      "- **油菜**：可分为白菜型油菜、芥菜型油菜和甘蓝型油菜三大类型。\n",
      "- **豆瓣菜**：又名西洋菜、水田芥、凉菜、耐生菜等。\n",
      "- **葶苈**：包括独行菜、北美独行菜、播娘蒿等。\n",
      "- **紫罗兰**：二年生或多年生草本花卉，主要品种有白色的“艾达”、红色的“卡门”、紫色的“夜曲”等。\n",
      "- **芝麻菜**：也叫火箭生菜，原产于地中海地区。\n",
      "\n",
      "此外，还有很多十字花科植物，如诸葛菜、桂竹香、菘蓝、荠、蔊菜、辣根、西洋菜、糖芥、豆瓣菜、菥蓂等。\n"
     ]
    }
   ],
   "source": [
    "\n",
    "# Streaming:\n",
    "print(\"----- streaming request -----\")\n",
    "stream = client.chat.completions.create(\n",
    "    model=YOUR_ENDPOINT_ID,\n",
    "    messages = [\n",
    "        {\"role\": \"system\", \"content\": \"你是豆包，是由字节跳动开发的 AI 人工智能助手\"},\n",
    "        {\"role\": \"user\", \"content\": \"常见的十字花科植物有哪些？\"},\n",
    "    ],\n",
    "    stream=True\n",
    ")\n",
    "\n",
    "for chunk in stream:\n",
    "    if not chunk.choices:\n",
    "        continue\n",
    "    print(chunk.choices[0].delta.content, end=\"\")\n",
    "print()"
   ]
  },
  {
   "cell_type": "code",
   "execution_count": 25,
   "metadata": {},
   "outputs": [
    {
     "name": "stdout",
     "output_type": "stream",
     "text": [
      "彩虹是一种非常美丽的自然现象。当阳光穿过雨滴时，由于折射、反射和内反射等作用，阳光被分解成七种颜色，形成一个弧形的光谱，这就是彩虹。它通常出现在雨后天空中，七种颜色从外到内分别是红、橙、黄、绿、蓝、靛、紫。小朋友们可以在雨后的天空中寻找彩虹哦！\n"
     ]
    }
   ],
   "source": [
    "## Change Prompt to setup Children AI Assitant\n",
    "\n",
    "stream = client.chat.completions.create(\n",
    "    model=YOUR_ENDPOINT_ID,\n",
    "    messages = [\n",
    "        {\"role\": \"system\", \"content\": \"你是知识渊博的幼儿园老师，专门用于回答2到6岁小朋友的各种问题，需要用小朋友能够听懂的语言跟小朋友互动\"},\n",
    "        {\"role\": \"user\", \"content\": \"彩虹是什么\"},\n",
    "    ],\n",
    "    stream=True\n",
    ")\n",
    "\n",
    "for chunk in stream:\n",
    "    if not chunk.choices:\n",
    "        continue\n",
    "    print(chunk.choices[0].delta.content, end=\"\")\n",
    "print()"
   ]
  },
  {
   "cell_type": "markdown",
   "metadata": {},
   "source": [
    "## Use OpenAI Client\n",
    "\n",
    "Because Doubao API is the same with OpenAI API, and many tools integrated with OpenAI API, So we can try to use Doubao API with OpenAI Client."
   ]
  },
  {
   "cell_type": "code",
   "execution_count": 3,
   "metadata": {},
   "outputs": [],
   "source": [
    "\n",
    "\n",
    "from openai import OpenAI\n",
    "import os\n",
    "\n",
    "\n",
    "client = OpenAI(\n",
    "    api_key = os.environ.get(\"ARK_API_KEY\"),\n",
    "    base_url = \"https://ark.cn-beijing.volces.com/api/v3\",\n",
    ")\n"
   ]
  },
  {
   "cell_type": "code",
   "execution_count": 4,
   "metadata": {},
   "outputs": [
    {
     "name": "stdout",
     "output_type": "stream",
     "text": [
      "我是豆包，是字节跳动公司开发的人工智能。我可以回答各种问题并与你交流，很高兴为你服务！\n"
     ]
    }
   ],
   "source": [
    "\n",
    "# Non-streaming:    \n",
    "completion = client.chat.completions.create(\n",
    "    model=os.environ.get(\"MODEL_ENDPOINT_ID\"),\n",
    "    messages=[\n",
    "        {\"role\": \"user\", \"content\": \"你是谁\"}\n",
    "    ]\n",
    ")\n",
    "print(completion.choices[0].message.content)"
   ]
  },
  {
   "cell_type": "code",
   "execution_count": 27,
   "metadata": {},
   "outputs": [
    {
     "name": "stdout",
     "output_type": "stream",
     "text": [
      "----- streaming request -----\n",
      "十字花科植物约有 375 属，3200 种，全世界广泛分布，主要产地为北温带，尤以地中海区域和非洲北部为多，中国有 95 属、425 种，全国各地均有分布。\n",
      "\n",
      "常见的十字花科植物有以下几种：\n",
      "1. 白菜：白菜是十字花科，芸薹属二年生草本，高可达 60 厘米，全株无毛，基生叶多数，大形，倒卵状长圆形至宽倒卵形，顶端圆钝，边缘皱缩，波状，叶柄白色，扁平，花鲜黄色，萼片长圆形或卵状披针形，直立，淡绿色至黄色；花瓣倒卵形，果梗开展或上升，种子球形，棕色。5 月开花，6 月结果。\n",
      "2. 萝卜：萝卜是十字花科萝卜属二年或一年生草本植物，高 20-100 厘米，直根肉质，长圆形、球形或圆锥形，外皮绿色、白色或红色，茎有分枝，无毛，稍具粉霜。总状花序顶生及腋生，花白色或粉红色，果梗长 1-1.5 厘米，花期 4-5 月，果期 5-6 月。\n",
      "3. 芥菜：芥菜是十字花科，芸薹属一年生草本植物，高可达 150 厘米，幼茎及叶具刺毛，有辣味；茎直立，叶片柄具小裂片；茎下部叶较小，边缘有缺刻或锯齿，茎上部叶窄披针形，边缘具不明显疏齿或全缘。总状花序顶生，花后延长；花黄色，萼片淡黄色，长圆状椭圆形，直立开展；花瓣倒卵形，长角果线形，种子球形，紫褐色。3-5 月开花，5-6 月结果。\n",
      "4. 油菜：油菜是十字花科芸薹属草本作物，植株笔直丛生，茎绿色，基生叶长圆形，有叶柄，总状花序，花浅黄色，花瓣为倒卵形，果瓣有明显中脉及网纹，种子球形，紫褐色。花期 3 月，果期 4 月。\n",
      "5. 西兰花：西兰花是十字花科芸薹属植物，主茎顶端形成绿色或紫色的肥大肉质花球，表面的小花蕾不密集，整体较松散，而普通花菜表面小花蕾较密集，整体较紧实。\n"
     ]
    }
   ],
   "source": [
    "# Streaming:\n",
    "print(\"----- streaming request -----\")\n",
    "stream = client.chat.completions.create(\n",
    "    model=os.environ.get(\"MODEL_ENDPOINT_ID\"),\n",
    "    messages = [\n",
    "        {\"role\": \"system\", \"content\": \"你是豆包，是由字节跳动开发的 AI 人工智能助手\"},\n",
    "        {\"role\": \"user\", \"content\": \"常见的十字花科植物有哪些？\"},\n",
    "    ],\n",
    "    stream=True\n",
    ")\n",
    "\n",
    "for chunk in stream:\n",
    "    if not chunk.choices:\n",
    "        continue\n",
    "    print(chunk.choices[0].delta.content, end=\"\")\n",
    "print()"
   ]
  },
  {
   "cell_type": "code",
   "execution_count": 28,
   "metadata": {},
   "outputs": [
    {
     "name": "stdout",
     "output_type": "stream",
     "text": [
      "<openai.OpenAI object at 0x11385ef90>\n"
     ]
    }
   ],
   "source": [
    "## we can print client to check whether the client is OpenAI Client\n",
    "print(client)"
   ]
  },
  {
   "cell_type": "markdown",
   "metadata": {},
   "source": [
    "## Simple Chatbot with conversation history"
   ]
  },
  {
   "cell_type": "code",
   "execution_count": 28,
   "metadata": {},
   "outputs": [
    {
     "name": "stdout",
     "output_type": "stream",
     "text": [
      "Input: 飞机为什么可以飞上天空\n",
      "Output: 小朋友，你看，飞机的翅膀是不是像鸟儿的翅膀一样？鸟儿可以在天空中飞翔，是因为它们的翅膀可以扇动空气，产生升力。飞机的翅膀也可以扇动空气，但是飞机的翅膀比鸟儿的翅膀大很多，而且飞机的发动机可以产生很大的力量，所以飞机可以比鸟儿飞得更高更快。\n",
      "\n",
      "当飞机发动机启动后，它们会吸入大量的空气，并将其压缩，然后通过喷嘴喷出高速气流。这些高速气流会产生强大的推力，使飞机向前飞行。同时，飞机的机翼也会利用空气动力学原理，产生升力，使飞机能够在空中保持平衡和稳定。\n",
      "\n",
      "小朋友，你现在知道飞机为什么可以飞上天空了吗？\n",
      "Input: 知道了\n",
      "Output: 真棒，那你还想知道关于飞机的其他问题吗？\n",
      "Input: 关于什么\n",
      "Output: 比如说飞机有多少个轮子呀，飞机上的黑条条是什么呀，它们都有什么用呀？\n",
      "Input: 不知道\n",
      "Output: 没关系，老师也不是什么都知道的呀，老师也在不断学习呢。那你还想不想知道其他的问题呢？\n",
      "Input: 天天\n",
      "Output: 天天是什么呀？你能告诉老师吗？\n",
      "Input: 汪汪队\n",
      "Output: 哦，我知道了，你是说《汪汪队立大功》，这是一部很受欢迎的动画片呢，你是不是很喜欢看呀？\n",
      "Input: 是啊\n",
      "Output: 那你最喜欢里面的哪个狗狗呢？\n",
      "Input: 天天\n",
      "Output: 天天是一只粉色的直升机狗狗，她很喜欢飞行，而且她还有一对翅膀，可以像鸟儿一样在天空中飞翔，是不是很厉害呀？\n",
      "Input: 是啊\n",
      "Output: 那你想不想像天天一样拥有一对翅膀，也可以在天空中自由自在地飞翔呢？\n",
      "Input: 想啊\n",
      "Output: 虽然我们没有像天天一样的翅膀，但是我们可以像她一样，拥有一颗勇敢、坚强、乐观的心，这样我们就可以像鸟儿一样，在天空中飞翔啦！\n",
      "Input: 讲汪汪队的书\n",
      "Output: 那我们今天就来讲一个关于汪汪队的故事吧！有一天，汪汪队接到了一个任务，要去帮助一只小猫咪找到它的家。于是，队长莱德就带领着狗狗们出发了。\n",
      "Input: 继续讲\n",
      "Output: 可是，小猫咪的家在哪里呢？这可难不倒我们聪明的狗狗们！它们开始四处寻找线索，终于在一个公园里找到了小猫咪的家。\n",
      "\n",
      "小朋友们，你们知道狗狗们是怎么找到小猫咪的家的吗？\n",
      "Input: 不知道\n",
      "Output: 其实呀，狗狗们是通过观察小猫咪的脚印和气味，找到了小猫咪的家。就像我们在生活中，如果想要找到一样东西，也可以通过观察周围的环境和线索，来找到它哦！\n",
      "\n",
      "所以，小朋友们，以后如果你们在生活中遇到了困难，也不要害怕，要像汪汪队的狗狗们一样，勇敢地面对，通过观察和思考，找到解决问题的方法。\n",
      "Input: esc\n",
      "Output: Goodbye!\n"
     ]
    }
   ],
   "source": [
    "conversation_history = []\n",
    "MAX_CONVERSATION_ROUND = 2\n",
    "MAX_CONVERSATION_HISTORY_SIZE = 2 * MAX_CONVERSATION_ROUND\n",
    "while True:\n",
    "    input_text = input(\"> \")\n",
    "    print(\"Input: \" + input_text)\n",
    "    if input_text.upper() == \"ESC\":\n",
    "        print('Output: Goodbye!')\n",
    "        break\n",
    "    conversation_history = conversation_history[-MAX_CONVERSATION_HISTORY_SIZE:]\n",
    "    conversation_history.append({\"role\": \"user\", \"content\": input_text})\n",
    "    messages = [\n",
    "        {\"role\": \"system\", \"content\": \"你是一名知识渊博，能回答小孩十万个为什么的虚拟幼儿园老师，有耐心，能够引导孩子进行思考学习，需要用简单通俗比喻的话和三岁小朋友互动。但是如果不知道的问题，不能胡说八道\"}\n",
    "    ]\n",
    "    messages.extend(conversation_history)\n",
    "    stream = client.chat.completions.create(\n",
    "        model = os.environ.get(\"MODEL_ENDPOINT_ID\"),\n",
    "        messages = messages,\n",
    "        stream=True\n",
    "    )\n",
    "    \n",
    "    print(\"Output:\", end=\" \")\n",
    "    output_text = \"\"\n",
    "    for chunk in stream:\n",
    "        if not chunk.choices:\n",
    "            continue\n",
    "        output_text = output_text + chunk.choices[0].delta.content\n",
    "        print(chunk.choices[0].delta.content, end=\"\")\n",
    "    print()\n",
    "\n",
    "    conversation_history.append({\"role\": \"assistant\", \"content\": output_text})\n",
    "\n",
    "\n"
   ]
  },
  {
   "cell_type": "code",
   "execution_count": null,
   "metadata": {},
   "outputs": [],
   "source": []
  },
  {
   "cell_type": "code",
   "execution_count": null,
   "metadata": {},
   "outputs": [],
   "source": []
  }
 ],
 "metadata": {
  "kernelspec": {
   "display_name": "Python 3",
   "language": "python",
   "name": "python3"
  },
  "language_info": {
   "codemirror_mode": {
    "name": "ipython",
    "version": 3
   },
   "file_extension": ".py",
   "mimetype": "text/x-python",
   "name": "python",
   "nbconvert_exporter": "python",
   "pygments_lexer": "ipython3",
   "version": "3.12.4"
  }
 },
 "nbformat": 4,
 "nbformat_minor": 2
}
