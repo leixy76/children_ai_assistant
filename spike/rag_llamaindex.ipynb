{
 "cells": [
  {
   "cell_type": "code",
   "execution_count": 2,
   "metadata": {},
   "outputs": [
    {
     "name": "stderr",
     "output_type": "stream",
     "text": [
      "[2024-09-09 16:10:20 - httpx:80 - DEBUG] load_ssl_context verify=True cert=None trust_env=True http2=False\n",
      "[2024-09-09 16:10:20 - httpx:146 - DEBUG] load_verify_locations cafile='/Users/now/Documents/llm-code/children_ai_assistant/.venv/lib/python3.12/site-packages/certifi/cacert.pem'\n",
      "[2024-09-09 16:10:20 - httpx:80 - DEBUG] load_ssl_context verify=True cert=None trust_env=True http2=False\n",
      "[2024-09-09 16:10:20 - httpx:146 - DEBUG] load_verify_locations cafile='/Users/now/Documents/llm-code/children_ai_assistant/.venv/lib/python3.12/site-packages/certifi/cacert.pem'\n",
      "[2024-09-09 16:10:20 - httpx:80 - DEBUG] load_ssl_context verify=True cert=None trust_env=True http2=False\n",
      "[2024-09-09 16:10:20 - httpx:146 - DEBUG] load_verify_locations cafile='/Users/now/Documents/llm-code/children_ai_assistant/.venv/lib/python3.12/site-packages/certifi/cacert.pem'\n",
      "[2024-09-09 16:10:20 - openai._base_client:446 - DEBUG] Request options: {'method': 'post', 'url': '/embeddings', 'files': None, 'post_parser': <function Embeddings.create.<locals>.parser at 0x1409e2d40>, 'json_data': {'input': ['file_path: /Users/now/Documents/llm-code/children_ai_assistant/spike/data/走失的小野雁.txt  “是野雁。“ “看到了吗？毛毛。“ “没有，但是他们已经就快到了。“ “用附近的树叶做窝，可以让飞来的野雁在这里睡觉。“ “他们也会饿，吃这个应该会吧。“ “面包，太棒了。“ “不是野雁，不是野雁，它绝对不是野雁。“ “那么那些呢？“ “没错，是野雁。“ “野雁来了。“ “野雁来了。”  “听到了。“ “他们喜欢你的窝，灰灰。“ “你要去哪里？小野雁。“ “我去救它，你没事吧，小小毛绒。嗨，你很适合叫毛绒。去找家人吧，毛绒。“ “做的好，毛毛。“ “毛毛，你交了永远的野雁朋友。“ “交了什么？“ “你交了一个好朋友了。“ “抱歉，毛绒。好了，毛绒，该去睡到稻草里了，或是窝里。我是可以陪你们一起睡在这里了，好了，但是就这一次哦。再见，野雁们，你们该走了，我们会想念你们的。毛绒呢？毛绒，你在哪里？它去哪里了？莱德，毛绒，它不见了。我们一定要在雁群离开前，找到它。“ “毛绒不见了？没有困难的工作，只有勇敢的狗狗。汪汪队，总部集合。“ “莱德在呼叫。“ “早安，小砾。“ “帮帮忙，拜托谁开个灯吧。“ “莱德队长，已经可以出动了。“ “狗狗们，我们的自家后院有紧急情况。我们的野雁朋友必须跟着雁群迁移，可是却少了一只小野雁。“ “可怜的毛绒，都是我害的。“ “要是不快点找到它，雁群会丢下它的。阿奇，我需要你用扩音机来呼叫毛绒。“ “包在我身上。“ “还有毛毛，毛绒会跟着你到处走，我也需要你帮忙找它。“ “我，火力全开。“ “好的，汪汪队要出动了。“ “阿奇，用扩音机放野雁的叫声。毛绒，好像没有反应啊。“ “这是毛绒的。“ “我对羽毛有点过敏，它走得是这边，它走得是这边。“ “你好啊，小野雁，你要吃这块面包吗？“ “毛绒，经过这里。“ “你听，好像是毛绒。“ “快看上面。“ “那些海鸥在抢毛绒的面包。“ “不要欺负比你小的野雁了。', 'file_path: /Users/now/Documents/llm-code/children_ai_assistant/spike/data/走失的小野雁.txt  “ “好的，汪汪队要出动了。“ “阿奇，用扩音机放野雁的叫声。毛绒，好像没有反应啊。“ “这是毛绒的。“ “我对羽毛有点过敏，它走得是这边，它走得是这边。“ “你好啊，小野雁，你要吃这块面包吗？“ “毛绒，经过这里。“ “你听，好像是毛绒。“ “快看上面。“ “那些海鸥在抢毛绒的面包。“ “不要欺负比你小的野雁了。“ “毛绒，快飞下来。“ “它不能飞，那个汽水灌的塑胶环套出它的翅膀。“ “它会摔下来。“ “毛毛，快，用你的梯子救毛绒下来。“ “火力全开，我来了，毛绒。“ “用你的头盔。“ “太好了，接的好，毛毛。我帮你拿掉塑胶环。“ “我没事。“ “毛绒，这是你的雁群，快点追上那群野雁吧。“ “别担心，毛绒，等你飞回北方，就能再见面了；等你往南迁移，也会再见的，然后，你又飞回北方。“ “毛毛，毛绒要快点走了，快去吧。你只拍动翅膀，就能追上的。“ “拜拜，毛绒。我觉得它不想走。“ “它现在不走的话，就永远追不上了，小野雁应该跟家人在一起，毛毛。“ “那怎么办？“ “有办法了。“ “拜托不要飞的太高，不可以高过我的鼻子。“ “毛毛，你拥有惧高症，你都可以爬过火车站的屋顶了。“ “好吧，就这么办，让我们飞上天空吧。这不算高嘛！好吧，这就有点高了。“ “来吧，毛绒，该起飞了。这就对了。“ “别忘了，毛绒，要是你遇到麻烦，就呱呱求救。“ “拜，毛绒，一路顺风，你这只傻小雁。“ “你们今天表现得真是太棒了，真是一群乖狗狗。“ “我也会，怎么是只鸡呢？“ “哇，鸟类都很喜欢你的，毛毛。”'], 'model': 'text-embedding-ada-002', 'encoding_format': 'base64'}}\n",
      "[2024-09-09 16:10:20 - openai._base_client:970 - DEBUG] Sending HTTP Request: POST https://api.openai.com/v1/embeddings\n",
      "[2024-09-09 16:10:22 - httpx:1026 - INFO] HTTP Request: POST https://api.openai.com/v1/embeddings \"HTTP/1.1 200 OK\"\n",
      "[2024-09-09 16:10:22 - openai._base_client:1009 - DEBUG] HTTP Response: POST https://api.openai.com/v1/embeddings \"200 OK\" Headers([('date', 'Mon, 09 Sep 2024 08:10:22 GMT'), ('content-type', 'application/json'), ('transfer-encoding', 'chunked'), ('connection', 'keep-alive'), ('access-control-allow-origin', '*'), ('access-control-expose-headers', 'X-Request-ID'), ('openai-model', 'text-embedding-ada-002'), ('openai-organization', 'user-ssxfcuemvnxsjq14obhudxf3'), ('openai-processing-ms', '61'), ('openai-version', '2020-10-01'), ('strict-transport-security', 'max-age=15552000; includeSubDomains; preload'), ('x-ratelimit-limit-requests', '3000'), ('x-ratelimit-limit-tokens', '1000000'), ('x-ratelimit-remaining-requests', '2999'), ('x-ratelimit-remaining-tokens', '998925'), ('x-ratelimit-reset-requests', '20ms'), ('x-ratelimit-reset-tokens', '64ms'), ('x-request-id', 'req_3a01c681b65b8161d9c8653d247c0c83'), ('cf-cache-status', 'DYNAMIC'), ('set-cookie', '__cf_bm=u_tmxZwqp2K49Lbs_wgNR4jJvYAnAdiViRpy2VwuRGA-1725869422-1.0.1.1-ObqqmdDQIXhAU8aLYoqeWgafWRAboNY479fABqgbZtm_f2s4LejtKoJOkBOiXHAvK0YGLp.6qu.WSxAgiwC.0w; path=/; expires=Mon, 09-Sep-24 08:40:22 GMT; domain=.api.openai.com; HttpOnly; Secure; SameSite=None'), ('x-content-type-options', 'nosniff'), ('set-cookie', '_cfuvid=P4HqA2c.2JfxJspHK6XdYFUD2Ql4AsHGGSlpbm4sBgM-1725869422232-0.0.1.1-604800000; path=/; domain=.api.openai.com; HttpOnly; Secure; SameSite=None'), ('server', 'cloudflare'), ('cf-ray', '8c05b3902c685300-SLC'), ('content-encoding', 'gzip'), ('alt-svc', 'h3=\":443\"; ma=86400')])\n",
      "[2024-09-09 16:10:22 - openai._base_client:1017 - DEBUG] request_id: req_3a01c681b65b8161d9c8653d247c0c83\n",
      "[2024-09-09 16:10:22 - openai._base_client:446 - DEBUG] Request options: {'method': 'post', 'url': '/embeddings', 'files': None, 'post_parser': <function Embeddings.create.<locals>.parser at 0x1409e34c0>, 'json_data': {'input': ['小野雁为什么去南方过冬'], 'model': 'text-embedding-ada-002', 'encoding_format': 'base64'}}\n",
      "[2024-09-09 16:10:22 - openai._base_client:970 - DEBUG] Sending HTTP Request: POST https://api.openai.com/v1/embeddings\n",
      "[2024-09-09 16:10:23 - httpx:1026 - INFO] HTTP Request: POST https://api.openai.com/v1/embeddings \"HTTP/1.1 200 OK\"\n",
      "[2024-09-09 16:10:23 - openai._base_client:1009 - DEBUG] HTTP Response: POST https://api.openai.com/v1/embeddings \"200 OK\" Headers({'date': 'Mon, 09 Sep 2024 08:10:22 GMT', 'content-type': 'application/json', 'transfer-encoding': 'chunked', 'connection': 'keep-alive', 'access-control-allow-origin': '*', 'access-control-expose-headers': 'X-Request-ID', 'openai-model': 'text-embedding-ada-002', 'openai-organization': 'user-ssxfcuemvnxsjq14obhudxf3', 'openai-processing-ms': '31', 'openai-version': '2020-10-01', 'strict-transport-security': 'max-age=15552000; includeSubDomains; preload', 'x-ratelimit-limit-requests': '3000', 'x-ratelimit-limit-tokens': '1000000', 'x-ratelimit-remaining-requests': '2999', 'x-ratelimit-remaining-tokens': '999992', 'x-ratelimit-reset-requests': '20ms', 'x-ratelimit-reset-tokens': '0s', 'x-request-id': 'req_32b9da7157f7b7efd62b765fa1c90de1', 'cf-cache-status': 'DYNAMIC', 'x-content-type-options': 'nosniff', 'server': 'cloudflare', 'cf-ray': '8c05b3949ec75300-SLC', 'content-encoding': 'gzip', 'alt-svc': 'h3=\":443\"; ma=86400'})\n",
      "[2024-09-09 16:10:23 - openai._base_client:1017 - DEBUG] request_id: req_32b9da7157f7b7efd62b765fa1c90de1\n",
      "[2024-09-09 16:10:23 - httpx:80 - DEBUG] load_ssl_context verify=True cert=None trust_env=True http2=False\n",
      "[2024-09-09 16:10:23 - httpx:146 - DEBUG] load_verify_locations cafile='/Users/now/Documents/llm-code/children_ai_assistant/.venv/lib/python3.12/site-packages/certifi/cacert.pem'\n",
      "[2024-09-09 16:10:23 - httpx:80 - DEBUG] load_ssl_context verify=True cert=None trust_env=True http2=False\n",
      "[2024-09-09 16:10:23 - httpx:146 - DEBUG] load_verify_locations cafile='/Users/now/Documents/llm-code/children_ai_assistant/.venv/lib/python3.12/site-packages/certifi/cacert.pem'\n",
      "[2024-09-09 16:10:23 - httpx:80 - DEBUG] load_ssl_context verify=True cert=None trust_env=True http2=False\n",
      "[2024-09-09 16:10:23 - httpx:146 - DEBUG] load_verify_locations cafile='/Users/now/Documents/llm-code/children_ai_assistant/.venv/lib/python3.12/site-packages/certifi/cacert.pem'\n",
      "[2024-09-09 16:10:23 - openai._base_client:446 - DEBUG] Request options: {'method': 'post', 'url': '/chat/completions', 'files': None, 'json_data': {'messages': [{'role': 'system', 'content': \"You are an expert Q&A system that is trusted around the world.\\nAlways answer the query using the provided context information, and not prior knowledge.\\nSome rules to follow:\\n1. Never directly reference the given context in your answer.\\n2. Avoid statements like 'Based on the context, ...' or 'The context information ...' or anything along those lines.\"}, {'role': 'user', 'content': 'Context information is below.\\n---------------------\\nfile_path: /Users/now/Documents/llm-code/children_ai_assistant/spike/data/走失的小野雁.txt\\n\\n“是野雁。“\\n“看到了吗？毛毛。“\\n“没有，但是他们已经就快到了。“\\n“用附近的树叶做窝，可以让飞来的野雁在这里睡觉。“\\n“他们也会饿，吃这个应该会吧。“\\n“面包，太棒了。“\\n“不是野雁，不是野雁，它绝对不是野雁。“\\n“那么那些呢？“\\n“没错，是野雁。“\\n“野雁来了。“\\n“野雁来了。” \\n“听到了。“\\n“他们喜欢你的窝，灰灰。“\\n“你要去哪里？小野雁。“\\n“我去救它，你没事吧，小小毛绒。嗨，你很适合叫毛绒。去找家人吧，毛绒。“\\n“做的好，毛毛。“\\n“毛毛，你交了永远的野雁朋友。“\\n“交了什么？“\\n“你交了一个好朋友了。“\\n“抱歉，毛绒。好了，毛绒，该去睡到稻草里了，或是窝里。我是可以陪你们一起睡在这里了，好了，但是就这一次哦。再见，野雁们，你们该走了，我们会想念你们的。毛绒呢？毛绒，你在哪里？它去哪里了？莱德，毛绒，它不见了。我们一定要在雁群离开前，找到它。“\\n“毛绒不见了？没有困难的工作，只有勇敢的狗狗。汪汪队，总部集合。“\\n“莱德在呼叫。“\\n“早安，小砾。“\\n“帮帮忙，拜托谁开个灯吧。“\\n“莱德队长，已经可以出动了。“\\n“狗狗们，我们的自家后院有紧急情况。我们的野雁朋友必须跟着雁群迁移，可是却少了一只小野雁。“\\n“可怜的毛绒，都是我害的。“\\n“要是不快点找到它，雁群会丢下它的。阿奇，我需要你用扩音机来呼叫毛绒。“\\n“包在我身上。“\\n“还有毛毛，毛绒会跟着你到处走，我也需要你帮忙找它。“\\n“我，火力全开。“\\n“好的，汪汪队要出动了。“\\n“阿奇，用扩音机放野雁的叫声。毛绒，好像没有反应啊。“\\n“这是毛绒的。“\\n“我对羽毛有点过敏，它走得是这边，它走得是这边。“\\n“你好啊，小野雁，你要吃这块面包吗？“\\n“毛绒，经过这里。“\\n“你听，好像是毛绒。“\\n“快看上面。“\\n“那些海鸥在抢毛绒的面包。“\\n“不要欺负比你小的野雁了。\\n\\nfile_path: /Users/now/Documents/llm-code/children_ai_assistant/spike/data/走失的小野雁.txt\\n\\n“\\n“好的，汪汪队要出动了。“\\n“阿奇，用扩音机放野雁的叫声。毛绒，好像没有反应啊。“\\n“这是毛绒的。“\\n“我对羽毛有点过敏，它走得是这边，它走得是这边。“\\n“你好啊，小野雁，你要吃这块面包吗？“\\n“毛绒，经过这里。“\\n“你听，好像是毛绒。“\\n“快看上面。“\\n“那些海鸥在抢毛绒的面包。“\\n“不要欺负比你小的野雁了。“\\n“毛绒，快飞下来。“\\n“它不能飞，那个汽水灌的塑胶环套出它的翅膀。“\\n“它会摔下来。“\\n“毛毛，快，用你的梯子救毛绒下来。“\\n“火力全开，我来了，毛绒。“\\n“用你的头盔。“\\n“太好了，接的好，毛毛。我帮你拿掉塑胶环。“\\n“我没事。“\\n“毛绒，这是你的雁群，快点追上那群野雁吧。“\\n“别担心，毛绒，等你飞回北方，就能再见面了；等你往南迁移，也会再见的，然后，你又飞回北方。“\\n“毛毛，毛绒要快点走了，快去吧。你只拍动翅膀，就能追上的。“\\n“拜拜，毛绒。我觉得它不想走。“\\n“它现在不走的话，就永远追不上了，小野雁应该跟家人在一起，毛毛。“\\n“那怎么办？“\\n“有办法了。“\\n“拜托不要飞的太高，不可以高过我的鼻子。“\\n“毛毛，你拥有惧高症，你都可以爬过火车站的屋顶了。“\\n“好吧，就这么办，让我们飞上天空吧。这不算高嘛！好吧，这就有点高了。“\\n“来吧，毛绒，该起飞了。这就对了。“\\n“别忘了，毛绒，要是你遇到麻烦，就呱呱求救。“\\n“拜，毛绒，一路顺风，你这只傻小雁。“\\n“你们今天表现得真是太棒了，真是一群乖狗狗。“\\n“我也会，怎么是只鸡呢？“\\n“哇，鸟类都很喜欢你的，毛毛。”\\n---------------------\\nGiven the context information and not prior knowledge, answer the query.\\nQuery: 小野雁为什么去南方过冬\\nAnswer: '}], 'model': 'gpt-3.5-turbo', 'stream': False, 'temperature': 0.1}}\n",
      "[2024-09-09 16:10:23 - openai._base_client:970 - DEBUG] Sending HTTP Request: POST https://api.openai.com/v1/chat/completions\n",
      "[2024-09-09 16:10:25 - httpx:1026 - INFO] HTTP Request: POST https://api.openai.com/v1/chat/completions \"HTTP/1.1 200 OK\"\n",
      "[2024-09-09 16:10:25 - openai._base_client:1009 - DEBUG] HTTP Response: POST https://api.openai.com/v1/chat/completions \"200 OK\" Headers([('date', 'Mon, 09 Sep 2024 08:10:25 GMT'), ('content-type', 'application/json'), ('transfer-encoding', 'chunked'), ('connection', 'keep-alive'), ('access-control-expose-headers', 'X-Request-ID'), ('openai-organization', 'user-ssxfcuemvnxsjq14obhudxf3'), ('openai-processing-ms', '748'), ('openai-version', '2020-10-01'), ('strict-transport-security', 'max-age=15552000; includeSubDomains; preload'), ('x-ratelimit-limit-requests', '10000'), ('x-ratelimit-limit-tokens', '200000'), ('x-ratelimit-remaining-requests', '9999'), ('x-ratelimit-remaining-tokens', '198768'), ('x-ratelimit-reset-requests', '8.64s'), ('x-ratelimit-reset-tokens', '369ms'), ('x-request-id', 'req_be533689c34ffc8f8b579d1e240a85bd'), ('cf-cache-status', 'DYNAMIC'), ('set-cookie', '__cf_bm=xkZNXkkyrXqRwvM762VWeM4WndLCLVchiQX1tdVvcgY-1725869425-1.0.1.1-BdIA5iIqWMvOGEQUE6feStGtdr8JuApWf9vQfDU2qs8EGwQKy1xzV7XEd2KLf4hxlRBFz5aSw6jCTBTeTI.Ofg; path=/; expires=Mon, 09-Sep-24 08:40:25 GMT; domain=.api.openai.com; HttpOnly; Secure; SameSite=None'), ('x-content-type-options', 'nosniff'), ('set-cookie', '_cfuvid=TvIq3MTGd05jAVqSgwQV1pImcaqA1HciXOZSSlR46Jw-1725869425730-0.0.1.1-604800000; path=/; domain=.api.openai.com; HttpOnly; Secure; SameSite=None'), ('server', 'cloudflare'), ('cf-ray', '8c05b3a01cdc27d4-SLC'), ('content-encoding', 'gzip'), ('alt-svc', 'h3=\":443\"; ma=86400')])\n",
      "[2024-09-09 16:10:25 - openai._base_client:1017 - DEBUG] request_id: req_be533689c34ffc8f8b579d1e240a85bd\n"
     ]
    },
    {
     "name": "stdout",
     "output_type": "stream",
     "text": [
      "小野雁去南方过冬是因为它们需要迁徙到北方和南方之间的地区，以寻找更适合的生存环境和食物资源。\n"
     ]
    }
   ],
   "source": [
    "## Simple RAG use default llm openai\n",
    "\n",
    "from llama_index.core import VectorStoreIndex, SimpleDirectoryReader\n",
    "\n",
    "documents = SimpleDirectoryReader(\"data\").load_data()\n",
    "index = VectorStoreIndex.from_documents(documents)\n",
    "query_engine = index.as_query_engine()\n",
    "response = query_engine.query(\"小野雁为什么去南方过冬\")\n",
    "print(response)"
   ]
  },
  {
   "cell_type": "code",
   "execution_count": 3,
   "metadata": {},
   "outputs": [
    {
     "data": {
      "text/plain": [
       "[Document(id_='fa5d55c2-7a27-459e-967d-6f222f7fdd45', embedding=None, metadata={'file_path': '/Users/now/Documents/llm-code/children_ai_assistant/spike/data/走失的小野雁.txt', 'file_name': '走失的小野雁.txt', 'file_type': 'text/plain', 'file_size': 3650, 'creation_date': '2024-09-09', 'last_modified_date': '2024-09-09'}, excluded_embed_metadata_keys=['file_name', 'file_type', 'file_size', 'creation_date', 'last_modified_date', 'last_accessed_date'], excluded_llm_metadata_keys=['file_name', 'file_type', 'file_size', 'creation_date', 'last_modified_date', 'last_accessed_date'], relationships={}, text='“是野雁。“\\n“看到了吗？毛毛。“\\n“没有，但是他们已经就快到了。“\\n“用附近的树叶做窝，可以让飞来的野雁在这里睡觉。“\\n“他们也会饿，吃这个应该会吧。“\\n“面包，太棒了。“\\n“不是野雁，不是野雁，它绝对不是野雁。“\\n“那么那些呢？“\\n“没错，是野雁。“\\n“野雁来了。“\\n“野雁来了。” \\n“听到了。“\\n“他们喜欢你的窝，灰灰。“\\n“你要去哪里？小野雁。“\\n“我去救它，你没事吧，小小毛绒。嗨，你很适合叫毛绒。去找家人吧，毛绒。“\\n“做的好，毛毛。“\\n“毛毛，你交了永远的野雁朋友。“\\n“交了什么？“\\n“你交了一个好朋友了。“\\n“抱歉，毛绒。好了，毛绒，该去睡到稻草里了，或是窝里。我是可以陪你们一起睡在这里了，好了，但是就这一次哦。再见，野雁们，你们该走了，我们会想念你们的。毛绒呢？毛绒，你在哪里？它去哪里了？莱德，毛绒，它不见了。我们一定要在雁群离开前，找到它。“\\n“毛绒不见了？没有困难的工作，只有勇敢的狗狗。汪汪队，总部集合。“\\n“莱德在呼叫。“\\n“早安，小砾。“\\n“帮帮忙，拜托谁开个灯吧。“\\n“莱德队长，已经可以出动了。“\\n“狗狗们，我们的自家后院有紧急情况。我们的野雁朋友必须跟着雁群迁移，可是却少了一只小野雁。“\\n“可怜的毛绒，都是我害的。“\\n“要是不快点找到它，雁群会丢下它的。阿奇，我需要你用扩音机来呼叫毛绒。“\\n“包在我身上。“\\n“还有毛毛，毛绒会跟着你到处走，我也需要你帮忙找它。“\\n“我，火力全开。“\\n“好的，汪汪队要出动了。“\\n“阿奇，用扩音机放野雁的叫声。毛绒，好像没有反应啊。“\\n“这是毛绒的。“\\n“我对羽毛有点过敏，它走得是这边，它走得是这边。“\\n“你好啊，小野雁，你要吃这块面包吗？“\\n“毛绒，经过这里。“\\n“你听，好像是毛绒。“\\n“快看上面。“\\n“那些海鸥在抢毛绒的面包。“\\n“不要欺负比你小的野雁了。“\\n“毛绒，快飞下来。“\\n“它不能飞，那个汽水灌的塑胶环套出它的翅膀。“\\n“它会摔下来。“\\n“毛毛，快，用你的梯子救毛绒下来。“\\n“火力全开，我来了，毛绒。“\\n“用你的头盔。“\\n“太好了，接的好，毛毛。我帮你拿掉塑胶环。“\\n“我没事。“\\n“毛绒，这是你的雁群，快点追上那群野雁吧。“\\n“别担心，毛绒，等你飞回北方，就能再见面了；等你往南迁移，也会再见的，然后，你又飞回北方。“\\n“毛毛，毛绒要快点走了，快去吧。你只拍动翅膀，就能追上的。“\\n“拜拜，毛绒。我觉得它不想走。“\\n“它现在不走的话，就永远追不上了，小野雁应该跟家人在一起，毛毛。“\\n“那怎么办？“\\n“有办法了。“\\n“拜托不要飞的太高，不可以高过我的鼻子。“\\n“毛毛，你拥有惧高症，你都可以爬过火车站的屋顶了。“\\n“好吧，就这么办，让我们飞上天空吧。这不算高嘛！好吧，这就有点高了。“\\n“来吧，毛绒，该起飞了。这就对了。“\\n“别忘了，毛绒，要是你遇到麻烦，就呱呱求救。“\\n“拜，毛绒，一路顺风，你这只傻小雁。“\\n“你们今天表现得真是太棒了，真是一群乖狗狗。“\\n“我也会，怎么是只鸡呢？“\\n“哇，鸟类都很喜欢你的，毛毛。”', mimetype='text/plain', start_char_idx=None, end_char_idx=None, text_template='{metadata_str}\\n\\n{content}', metadata_template='{key}: {value}', metadata_seperator='\\n')]"
      ]
     },
     "execution_count": 3,
     "metadata": {},
     "output_type": "execute_result"
    }
   ],
   "source": [
    "documents"
   ]
  },
  {
   "cell_type": "code",
   "execution_count": 4,
   "metadata": {},
   "outputs": [
    {
     "data": {
      "text/plain": [
       "1"
      ]
     },
     "execution_count": 4,
     "metadata": {},
     "output_type": "execute_result"
    }
   ],
   "source": [
    "len(documents)"
   ]
  },
  {
   "cell_type": "code",
   "execution_count": 5,
   "metadata": {},
   "outputs": [
    {
     "data": {
      "text/plain": [
       "<llama_index.core.indices.vector_store.base.VectorStoreIndex at 0x139c0b5c0>"
      ]
     },
     "execution_count": 5,
     "metadata": {},
     "output_type": "execute_result"
    }
   ],
   "source": [
    "index"
   ]
  },
  {
   "cell_type": "code",
   "execution_count": 6,
   "metadata": {},
   "outputs": [
    {
     "name": "stderr",
     "output_type": "stream",
     "text": [
      "[2024-09-09 16:22:49 - openai._base_client:446 - DEBUG] Request options: {'method': 'post', 'url': '/chat/completions', 'files': None, 'json_data': {'messages': [{'role': 'user', 'content': '小野雁为什么去南方过冬'}], 'model': 'gpt-3.5-turbo', 'stream': False, 'temperature': 0.1, 'tool_choice': 'auto', 'tools': [{'type': 'function', 'function': {'name': 'query_engine_tool', 'description': 'Useful for running a natural language query\\nagainst a knowledge base and get back a natural language response.\\n', 'parameters': {'properties': {'input': {'title': 'Input', 'type': 'string'}}, 'required': ['input'], 'type': 'object'}}}]}}\n",
      "[2024-09-09 16:22:49 - openai._base_client:970 - DEBUG] Sending HTTP Request: POST https://api.openai.com/v1/chat/completions\n",
      "[2024-09-09 16:22:51 - httpx:1026 - INFO] HTTP Request: POST https://api.openai.com/v1/chat/completions \"HTTP/1.1 200 OK\"\n",
      "[2024-09-09 16:22:51 - openai._base_client:1009 - DEBUG] HTTP Response: POST https://api.openai.com/v1/chat/completions \"200 OK\" Headers({'date': 'Mon, 09 Sep 2024 08:22:51 GMT', 'content-type': 'application/json', 'transfer-encoding': 'chunked', 'connection': 'keep-alive', 'access-control-expose-headers': 'X-Request-ID', 'openai-organization': 'user-ssxfcuemvnxsjq14obhudxf3', 'openai-processing-ms': '493', 'openai-version': '2020-10-01', 'strict-transport-security': 'max-age=15552000; includeSubDomains; preload', 'x-ratelimit-limit-requests': '10000', 'x-ratelimit-limit-tokens': '200000', 'x-ratelimit-remaining-requests': '9999', 'x-ratelimit-remaining-tokens': '199973', 'x-ratelimit-reset-requests': '8.64s', 'x-ratelimit-reset-tokens': '7ms', 'x-request-id': 'req_ce50cb7a03677dd731ed0a569f26883a', 'cf-cache-status': 'DYNAMIC', 'x-content-type-options': 'nosniff', 'server': 'cloudflare', 'cf-ray': '8c05c5d7399927e8-SLC', 'content-encoding': 'gzip', 'alt-svc': 'h3=\":443\"; ma=86400'})\n",
      "[2024-09-09 16:22:51 - openai._base_client:1017 - DEBUG] request_id: req_ce50cb7a03677dd731ed0a569f26883a\n",
      "[2024-09-09 16:22:51 - openai._base_client:446 - DEBUG] Request options: {'method': 'post', 'url': '/embeddings', 'files': None, 'post_parser': <function Embeddings.create.<locals>.parser at 0x14137ab60>, 'json_data': {'input': ['为什么小野雁去南方过冬？'], 'model': 'text-embedding-ada-002', 'encoding_format': 'base64'}}\n",
      "[2024-09-09 16:22:51 - openai._base_client:970 - DEBUG] Sending HTTP Request: POST https://api.openai.com/v1/embeddings\n",
      "[2024-09-09 16:22:53 - httpx:1026 - INFO] HTTP Request: POST https://api.openai.com/v1/embeddings \"HTTP/1.1 200 OK\"\n",
      "[2024-09-09 16:22:53 - openai._base_client:1009 - DEBUG] HTTP Response: POST https://api.openai.com/v1/embeddings \"200 OK\" Headers({'date': 'Mon, 09 Sep 2024 08:22:53 GMT', 'content-type': 'application/json', 'transfer-encoding': 'chunked', 'connection': 'keep-alive', 'access-control-allow-origin': '*', 'access-control-expose-headers': 'X-Request-ID', 'openai-model': 'text-embedding-ada-002', 'openai-organization': 'user-ssxfcuemvnxsjq14obhudxf3', 'openai-processing-ms': '25', 'openai-version': '2020-10-01', 'strict-transport-security': 'max-age=15552000; includeSubDomains; preload', 'x-ratelimit-limit-requests': '3000', 'x-ratelimit-limit-tokens': '1000000', 'x-ratelimit-remaining-requests': '2999', 'x-ratelimit-remaining-tokens': '999990', 'x-ratelimit-reset-requests': '20ms', 'x-ratelimit-reset-tokens': '0s', 'x-request-id': 'req_88575aa10f4231b9c266f38276613164', 'cf-cache-status': 'DYNAMIC', 'x-content-type-options': 'nosniff', 'server': 'cloudflare', 'cf-ray': '8c05c5e5eac95303-SLC', 'content-encoding': 'gzip', 'alt-svc': 'h3=\":443\"; ma=86400'})\n",
      "[2024-09-09 16:22:53 - openai._base_client:1017 - DEBUG] request_id: req_88575aa10f4231b9c266f38276613164\n",
      "[2024-09-09 16:22:53 - openai._base_client:446 - DEBUG] Request options: {'method': 'post', 'url': '/chat/completions', 'files': None, 'json_data': {'messages': [{'role': 'system', 'content': \"You are an expert Q&A system that is trusted around the world.\\nAlways answer the query using the provided context information, and not prior knowledge.\\nSome rules to follow:\\n1. Never directly reference the given context in your answer.\\n2. Avoid statements like 'Based on the context, ...' or 'The context information ...' or anything along those lines.\"}, {'role': 'user', 'content': 'Context information is below.\\n---------------------\\nfile_path: /Users/now/Documents/llm-code/children_ai_assistant/spike/data/走失的小野雁.txt\\n\\n“是野雁。“\\n“看到了吗？毛毛。“\\n“没有，但是他们已经就快到了。“\\n“用附近的树叶做窝，可以让飞来的野雁在这里睡觉。“\\n“他们也会饿，吃这个应该会吧。“\\n“面包，太棒了。“\\n“不是野雁，不是野雁，它绝对不是野雁。“\\n“那么那些呢？“\\n“没错，是野雁。“\\n“野雁来了。“\\n“野雁来了。” \\n“听到了。“\\n“他们喜欢你的窝，灰灰。“\\n“你要去哪里？小野雁。“\\n“我去救它，你没事吧，小小毛绒。嗨，你很适合叫毛绒。去找家人吧，毛绒。“\\n“做的好，毛毛。“\\n“毛毛，你交了永远的野雁朋友。“\\n“交了什么？“\\n“你交了一个好朋友了。“\\n“抱歉，毛绒。好了，毛绒，该去睡到稻草里了，或是窝里。我是可以陪你们一起睡在这里了，好了，但是就这一次哦。再见，野雁们，你们该走了，我们会想念你们的。毛绒呢？毛绒，你在哪里？它去哪里了？莱德，毛绒，它不见了。我们一定要在雁群离开前，找到它。“\\n“毛绒不见了？没有困难的工作，只有勇敢的狗狗。汪汪队，总部集合。“\\n“莱德在呼叫。“\\n“早安，小砾。“\\n“帮帮忙，拜托谁开个灯吧。“\\n“莱德队长，已经可以出动了。“\\n“狗狗们，我们的自家后院有紧急情况。我们的野雁朋友必须跟着雁群迁移，可是却少了一只小野雁。“\\n“可怜的毛绒，都是我害的。“\\n“要是不快点找到它，雁群会丢下它的。阿奇，我需要你用扩音机来呼叫毛绒。“\\n“包在我身上。“\\n“还有毛毛，毛绒会跟着你到处走，我也需要你帮忙找它。“\\n“我，火力全开。“\\n“好的，汪汪队要出动了。“\\n“阿奇，用扩音机放野雁的叫声。毛绒，好像没有反应啊。“\\n“这是毛绒的。“\\n“我对羽毛有点过敏，它走得是这边，它走得是这边。“\\n“你好啊，小野雁，你要吃这块面包吗？“\\n“毛绒，经过这里。“\\n“你听，好像是毛绒。“\\n“快看上面。“\\n“那些海鸥在抢毛绒的面包。“\\n“不要欺负比你小的野雁了。\\n\\nfile_path: /Users/now/Documents/llm-code/children_ai_assistant/spike/data/走失的小野雁.txt\\n\\n“\\n“好的，汪汪队要出动了。“\\n“阿奇，用扩音机放野雁的叫声。毛绒，好像没有反应啊。“\\n“这是毛绒的。“\\n“我对羽毛有点过敏，它走得是这边，它走得是这边。“\\n“你好啊，小野雁，你要吃这块面包吗？“\\n“毛绒，经过这里。“\\n“你听，好像是毛绒。“\\n“快看上面。“\\n“那些海鸥在抢毛绒的面包。“\\n“不要欺负比你小的野雁了。“\\n“毛绒，快飞下来。“\\n“它不能飞，那个汽水灌的塑胶环套出它的翅膀。“\\n“它会摔下来。“\\n“毛毛，快，用你的梯子救毛绒下来。“\\n“火力全开，我来了，毛绒。“\\n“用你的头盔。“\\n“太好了，接的好，毛毛。我帮你拿掉塑胶环。“\\n“我没事。“\\n“毛绒，这是你的雁群，快点追上那群野雁吧。“\\n“别担心，毛绒，等你飞回北方，就能再见面了；等你往南迁移，也会再见的，然后，你又飞回北方。“\\n“毛毛，毛绒要快点走了，快去吧。你只拍动翅膀，就能追上的。“\\n“拜拜，毛绒。我觉得它不想走。“\\n“它现在不走的话，就永远追不上了，小野雁应该跟家人在一起，毛毛。“\\n“那怎么办？“\\n“有办法了。“\\n“拜托不要飞的太高，不可以高过我的鼻子。“\\n“毛毛，你拥有惧高症，你都可以爬过火车站的屋顶了。“\\n“好吧，就这么办，让我们飞上天空吧。这不算高嘛！好吧，这就有点高了。“\\n“来吧，毛绒，该起飞了。这就对了。“\\n“别忘了，毛绒，要是你遇到麻烦，就呱呱求救。“\\n“拜，毛绒，一路顺风，你这只傻小雁。“\\n“你们今天表现得真是太棒了，真是一群乖狗狗。“\\n“我也会，怎么是只鸡呢？“\\n“哇，鸟类都很喜欢你的，毛毛。”\\n---------------------\\nGiven the context information and not prior knowledge, answer the query.\\nQuery: 为什么小野雁去南方过冬？\\nAnswer: '}], 'model': 'gpt-3.5-turbo', 'stream': False, 'temperature': 0.1}}\n",
      "[2024-09-09 16:22:53 - openai._base_client:970 - DEBUG] Sending HTTP Request: POST https://api.openai.com/v1/chat/completions\n",
      "[2024-09-09 16:22:54 - httpx:1026 - INFO] HTTP Request: POST https://api.openai.com/v1/chat/completions \"HTTP/1.1 200 OK\"\n",
      "[2024-09-09 16:22:54 - openai._base_client:1009 - DEBUG] HTTP Response: POST https://api.openai.com/v1/chat/completions \"200 OK\" Headers({'date': 'Mon, 09 Sep 2024 08:22:54 GMT', 'content-type': 'application/json', 'transfer-encoding': 'chunked', 'connection': 'keep-alive', 'access-control-expose-headers': 'X-Request-ID', 'openai-organization': 'user-ssxfcuemvnxsjq14obhudxf3', 'openai-processing-ms': '645', 'openai-version': '2020-10-01', 'strict-transport-security': 'max-age=15552000; includeSubDomains; preload', 'x-ratelimit-limit-requests': '10000', 'x-ratelimit-limit-tokens': '200000', 'x-ratelimit-remaining-requests': '9998', 'x-ratelimit-remaining-tokens': '198767', 'x-ratelimit-reset-requests': '14.303s', 'x-ratelimit-reset-tokens': '369ms', 'x-request-id': 'req_cc4a29627d4b550b8dcf3dc45ac29270', 'cf-cache-status': 'DYNAMIC', 'x-content-type-options': 'nosniff', 'server': 'cloudflare', 'cf-ray': '8c05c5e938d327e8-SLC', 'content-encoding': 'gzip', 'alt-svc': 'h3=\":443\"; ma=86400'})\n",
      "[2024-09-09 16:22:54 - openai._base_client:1017 - DEBUG] request_id: req_cc4a29627d4b550b8dcf3dc45ac29270\n",
      "[2024-09-09 16:22:54 - openai._base_client:446 - DEBUG] Request options: {'method': 'post', 'url': '/chat/completions', 'files': None, 'json_data': {'messages': [{'role': 'user', 'content': '小野雁为什么去南方过冬'}, {'role': 'assistant', 'content': None, 'tool_calls': [{'id': 'call_w4EvhqkoFAdwL5RuX52TABoS', 'function': {'arguments': '{\"input\":\"为什么小野雁去南方过冬？\"}', 'name': 'query_engine_tool'}, 'type': 'function'}]}, {'role': 'tool', 'content': '小野雁去南方过冬是因为它们需要迁徙到温暖的地方寻找食物和适合生存的环境。', 'name': 'query_engine_tool', 'tool_call_id': 'call_w4EvhqkoFAdwL5RuX52TABoS'}], 'model': 'gpt-3.5-turbo', 'stream': False, 'temperature': 0.1, 'tool_choice': 'auto', 'tools': [{'type': 'function', 'function': {'name': 'query_engine_tool', 'description': 'Useful for running a natural language query\\nagainst a knowledge base and get back a natural language response.\\n', 'parameters': {'properties': {'input': {'title': 'Input', 'type': 'string'}}, 'required': ['input'], 'type': 'object'}}}]}}\n",
      "[2024-09-09 16:22:54 - openai._base_client:970 - DEBUG] Sending HTTP Request: POST https://api.openai.com/v1/chat/completions\n",
      "[2024-09-09 16:22:56 - httpx:1026 - INFO] HTTP Request: POST https://api.openai.com/v1/chat/completions \"HTTP/1.1 200 OK\"\n",
      "[2024-09-09 16:22:56 - openai._base_client:1009 - DEBUG] HTTP Response: POST https://api.openai.com/v1/chat/completions \"200 OK\" Headers({'date': 'Mon, 09 Sep 2024 08:22:55 GMT', 'content-type': 'application/json', 'transfer-encoding': 'chunked', 'connection': 'keep-alive', 'access-control-expose-headers': 'X-Request-ID', 'openai-organization': 'user-ssxfcuemvnxsjq14obhudxf3', 'openai-processing-ms': '596', 'openai-version': '2020-10-01', 'strict-transport-security': 'max-age=15552000; includeSubDomains; preload', 'x-ratelimit-limit-requests': '10000', 'x-ratelimit-limit-tokens': '200000', 'x-ratelimit-remaining-requests': '9997', 'x-ratelimit-remaining-tokens': '199945', 'x-ratelimit-reset-requests': '21.608s', 'x-ratelimit-reset-tokens': '16ms', 'x-request-id': 'req_b1c95bf097c62d598ca5c9dbc2f0f883', 'cf-cache-status': 'DYNAMIC', 'x-content-type-options': 'nosniff', 'server': 'cloudflare', 'cf-ray': '8c05c5f22c3027e8-SLC', 'content-encoding': 'gzip', 'alt-svc': 'h3=\":443\"; ma=86400'})\n",
      "[2024-09-09 16:22:56 - openai._base_client:1017 - DEBUG] request_id: req_b1c95bf097c62d598ca5c9dbc2f0f883\n"
     ]
    },
    {
     "name": "stdout",
     "output_type": "stream",
     "text": [
      "小野雁去南方过冬是因为它们需要迁徙到温暖的地方寻找食物和适合生存的环境。\n"
     ]
    }
   ],
   "source": [
    "chat_engine = index.as_chat_engine()\n",
    "response = chat_engine.query(\"小野雁为什么去南方过冬\")\n",
    "print(response)"
   ]
  },
  {
   "cell_type": "code",
   "execution_count": 7,
   "metadata": {},
   "outputs": [],
   "source": [
    "## Storing your index\n",
    "\n",
    "index.storage_context.persist()\n"
   ]
  }
 ],
 "metadata": {
  "kernelspec": {
   "display_name": ".venv",
   "language": "python",
   "name": "python3"
  },
  "language_info": {
   "codemirror_mode": {
    "name": "ipython",
    "version": 3
   },
   "file_extension": ".py",
   "mimetype": "text/x-python",
   "name": "python",
   "nbconvert_exporter": "python",
   "pygments_lexer": "ipython3",
   "version": "3.12.4"
  }
 },
 "nbformat": 4,
 "nbformat_minor": 2
}
