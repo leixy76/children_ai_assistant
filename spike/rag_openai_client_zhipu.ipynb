{
 "cells": [
  {
   "cell_type": "markdown",
   "metadata": {},
   "source": [
    "# Spike RAG with OpenAI client and ChromaDB and zhipu embedding model"
   ]
  },
  {
   "cell_type": "code",
   "execution_count": 5,
   "metadata": {},
   "outputs": [],
   "source": [
    "## Integrated with ChromaDB\n",
    "\n",
    "import chromadb\n",
    "chroma_client = chromadb.PersistentClient()\n"
   ]
  },
  {
   "cell_type": "code",
   "execution_count": 6,
   "metadata": {},
   "outputs": [
    {
     "name": "stderr",
     "output_type": "stream",
     "text": [
      "[2024-09-10 12:11:36 - httpx:80 - DEBUG] load_ssl_context verify=True cert=None trust_env=True http2=False\n",
      "[2024-09-10 12:11:36 - httpx:146 - DEBUG] load_verify_locations cafile='/Users/now/Documents/llm-code/children_ai_assistant/.venv/lib/python3.12/site-packages/certifi/cacert.pem'\n",
      "[2024-09-10 12:11:36 - httpx:80 - DEBUG] load_ssl_context verify=True cert=None trust_env=True http2=False\n",
      "[2024-09-10 12:11:36 - httpx:146 - DEBUG] load_verify_locations cafile='/Users/now/Documents/llm-code/children_ai_assistant/.venv/lib/python3.12/site-packages/certifi/cacert.pem'\n",
      "[2024-09-10 12:11:36 - httpx:80 - DEBUG] load_ssl_context verify=True cert=None trust_env=True http2=False\n",
      "[2024-09-10 12:11:36 - httpx:146 - DEBUG] load_verify_locations cafile='/Users/now/Documents/llm-code/children_ai_assistant/.venv/lib/python3.12/site-packages/certifi/cacert.pem'\n"
     ]
    }
   ],
   "source": [
    "import chromadb.utils.embedding_functions as embedding_functions\n",
    "import os\n",
    "\n",
    "openai_ef = embedding_functions.OpenAIEmbeddingFunction(\n",
    "                api_key=os.environ.get(\"ZHIPU_API_KEY\"),\n",
    "                api_base=\"https://open.bigmodel.cn/api/paas/v4/\",\n",
    "                model_name=\"embedding-3\"\n",
    "            )"
   ]
  },
  {
   "cell_type": "code",
   "execution_count": 10,
   "metadata": {},
   "outputs": [],
   "source": [
    "\n",
    "collection = chroma_client.create_collection(name=\"story_wangwangdui\", metadata={\"story_series\": \"汪汪队\"}, embedding_function=openai_ef)"
   ]
  },
  {
   "cell_type": "code",
   "execution_count": 9,
   "metadata": {},
   "outputs": [],
   "source": [
    "#chroma_client.delete_collection(\"story_wangwangdui\")"
   ]
  },
  {
   "cell_type": "code",
   "execution_count": 11,
   "metadata": {},
   "outputs": [
    {
     "name": "stderr",
     "output_type": "stream",
     "text": [
      "[2024-09-10 12:12:11 - openai._base_client:446 - DEBUG] Request options: {'method': 'post', 'url': '/embeddings', 'files': None, 'post_parser': <function Embeddings.create.<locals>.parser at 0x1284eccc0>, 'json_data': {'input': ['“是野雁。“ “看到了吗？毛毛。“ “没有，但是他们已经就快到了。“ “用附近的树叶做窝，可以让飞来的野雁在这里睡觉。“ “他们也会饿，吃这个应该会吧。“ “面包，太棒了。“ “不是野雁，不是野雁，它绝对不是野雁。“ “那么那些呢？“ “没错，是野雁。“ “野雁来了。“ “野雁来了。”  “听到了。“ “他们喜欢你的窝，灰灰。“ “你要去哪里？小野雁。“ “我去救它，你没事吧，小小毛绒。嗨，你很适合叫毛绒。去找家人吧，毛绒。“ “做的好，毛毛。“ “毛毛，你交了永远的野雁朋友。“ “交了什么？“ “你交了一个好朋友了。“ “抱歉，毛绒。好了，毛绒，该去睡到稻草里了，或是窝里。我是可以陪你们一起睡在这里了，好了，但是就这一次哦。再见，野雁们，你们该走了，我们会想念你们的。毛绒呢？毛绒，你在哪里？它去哪里了？莱德，毛绒，它不见了。我们一定要在雁群离开前，找到它。“', '“毛绒不见了？没有困难的工作，只有勇敢的狗狗。汪汪队，总部集合。“ “莱德在呼叫。“ “早安，小砾。“ “帮帮忙，拜托谁开个灯吧。“ “莱德队长，已经可以出动了。“ “狗狗们，我们的自家后院有紧急情况。我们的野雁朋友必须跟着雁群迁移，可是却少了一只小野雁。“ “可怜的毛绒，都是我害的。“ “要是不快点找到它，雁群会丢下它的。阿奇，我需要你用扩音机来呼叫毛绒。“ “包在我身上。“ “还有毛毛，毛绒会跟着你到处走，我也需要你帮忙找它。“ “我，火力全开。“ “好的，汪汪队要出动了。“ “阿奇，用扩音机放野雁的叫声。毛绒，好像没有反应啊。“ “这是毛绒的。“ “我对羽毛有点过敏，它走得是这边，它走得是这边。“ “你好啊，小野雁，你要吃这块面包吗？“ “毛绒，经过这里。“ “你听，好像是毛绒。“ “快看上面。“ “那些海鸥在抢毛绒的面包。“ “不要欺负比你小的野雁了。“ “毛绒，快飞下来。“', '“快看上面。“ “那些海鸥在抢毛绒的面包。“ “不要欺负比你小的野雁了。“ “毛绒，快飞下来。“ “它不能飞，那个汽水灌的塑胶环套出它的翅膀。“ “它会摔下来。“ “毛毛，快，用你的梯子救毛绒下来。“ “火力全开，我来了，毛绒。“ “用你的头盔。“ “太好了，接的好，毛毛。我帮你拿掉塑胶环。“ “我没事。“ “毛绒，这是你的雁群，快点追上那群野雁吧。“ “别担心，毛绒，等你飞回北方，就能再见面了；等你往南迁移，也会再见的，然后，你又飞回北方。“ “毛毛，毛绒要快点走了，快去吧。你只拍动翅膀，就能追上的。“ “拜拜，毛绒。我觉得它不想走。“ “它现在不走的话，就永远追不上了，小野雁应该跟家人在一起，毛毛。“ “那怎么办？“ “有办法了。“ “拜托不要飞的太高，不可以高过我的鼻子。“ “毛毛，你拥有惧高症，你都可以爬过火车站的屋顶了。“', '“拜托不要飞的太高，不可以高过我的鼻子。“ “毛毛，你拥有惧高症，你都可以爬过火车站的屋顶了。“ “好吧，就这么办，让我们飞上天空吧。这不算高嘛！好吧，这就有点高了。“ “来吧，毛绒，该起飞了。这就对了。“ “别忘了，毛绒，要是你遇到麻烦，就呱呱求救。“ “拜，毛绒，一路顺风，你这只傻小雁。“ “你们今天表现得真是太棒了，真是一群乖狗狗。“ “我也会，怎么是只鸡呢？“ “哇，鸟类都很喜欢你的，毛毛。”'], 'model': 'embedding-3', 'encoding_format': 'base64'}}\n",
      "[2024-09-10 12:12:11 - openai._base_client:970 - DEBUG] Sending HTTP Request: POST https://open.bigmodel.cn/api/paas/v4/embeddings\n",
      "[2024-09-10 12:12:13 - httpx:1026 - INFO] HTTP Request: POST https://open.bigmodel.cn/api/paas/v4/embeddings \"HTTP/1.1 200 OK\"\n",
      "[2024-09-10 12:12:13 - openai._base_client:1009 - DEBUG] HTTP Response: POST https://open.bigmodel.cn/api/paas/v4/embeddings \"200 OK\" Headers([('date', 'Tue, 10 Sep 2024 04:12:13 GMT'), ('content-type', 'application/json; charset=UTF-8'), ('transfer-encoding', 'chunked'), ('connection', 'keep-alive'), ('set-cookie', 'acw_tc=784e2cb017259415322401603e7420659b7850e208549a37f35ee1d77008a5;path=/;HttpOnly;Max-Age=1800'), ('vary', 'Accept-Encoding'), ('x-log-id', '2024091012121228e2cf486fd14a59'), ('vary', 'Origin'), ('vary', 'Access-Control-Request-Method'), ('vary', 'Access-Control-Request-Headers'), ('strict-transport-security', 'max-age=31536000; includeSubDomains'), ('content-encoding', 'gzip')])\n",
      "[2024-09-10 12:12:13 - openai._base_client:1017 - DEBUG] request_id: None\n"
     ]
    }
   ],
   "source": [
    "collection.add(\n",
    "    documents=[\n",
    "        \"“是野雁。“\\n“看到了吗？毛毛。“\\n“没有，但是他们已经就快到了。“\\n“用附近的树叶做窝，可以让飞来的野雁在这里睡觉。“\\n“他们也会饿，吃这个应该会吧。“\\n“面包，太棒了。“\\n“不是野雁，不是野雁，它绝对不是野雁。“\\n“那么那些呢？“\\n“没错，是野雁。“\\n“野雁来了。“\\n“野雁来了。” \\n“听到了。“\\n“他们喜欢你的窝，灰灰。“\\n“你要去哪里？小野雁。“\\n“我去救它，你没事吧，小小毛绒。嗨，你很适合叫毛绒。去找家人吧，毛绒。“\\n“做的好，毛毛。“\\n“毛毛，你交了永远的野雁朋友。“\\n“交了什么？“\\n“你交了一个好朋友了。“\\n“抱歉，毛绒。好了，毛绒，该去睡到稻草里了，或是窝里。我是可以陪你们一起睡在这里了，好了，但是就这一次哦。再见，野雁们，你们该走了，我们会想念你们的。毛绒呢？毛绒，你在哪里？它去哪里了？莱德，毛绒，它不见了。我们一定要在雁群离开前，找到它。“\",\n",
    "        \"“毛绒不见了？没有困难的工作，只有勇敢的狗狗。汪汪队，总部集合。“\\n“莱德在呼叫。“\\n“早安，小砾。“\\n“帮帮忙，拜托谁开个灯吧。“\\n“莱德队长，已经可以出动了。“\\n“狗狗们，我们的自家后院有紧急情况。我们的野雁朋友必须跟着雁群迁移，可是却少了一只小野雁。“\\n“可怜的毛绒，都是我害的。“\\n“要是不快点找到它，雁群会丢下它的。阿奇，我需要你用扩音机来呼叫毛绒。“\\n“包在我身上。“\\n“还有毛毛，毛绒会跟着你到处走，我也需要你帮忙找它。“\\n“我，火力全开。“\\n“好的，汪汪队要出动了。“\\n“阿奇，用扩音机放野雁的叫声。毛绒，好像没有反应啊。“\\n“这是毛绒的。“\\n“我对羽毛有点过敏，它走得是这边，它走得是这边。“\\n“你好啊，小野雁，你要吃这块面包吗？“\\n“毛绒，经过这里。“\\n“你听，好像是毛绒。“\\n“快看上面。“\\n“那些海鸥在抢毛绒的面包。“\\n“不要欺负比你小的野雁了。“\\n“毛绒，快飞下来。“\",\n",
    "        \"“快看上面。“\\n“那些海鸥在抢毛绒的面包。“\\n“不要欺负比你小的野雁了。“\\n“毛绒，快飞下来。“\\n“它不能飞，那个汽水灌的塑胶环套出它的翅膀。“\\n“它会摔下来。“\\n“毛毛，快，用你的梯子救毛绒下来。“\\n“火力全开，我来了，毛绒。“\\n“用你的头盔。“\\n“太好了，接的好，毛毛。我帮你拿掉塑胶环。“\\n“我没事。“\\n“毛绒，这是你的雁群，快点追上那群野雁吧。“\\n“别担心，毛绒，等你飞回北方，就能再见面了；等你往南迁移，也会再见的，然后，你又飞回北方。“\\n“毛毛，毛绒要快点走了，快去吧。你只拍动翅膀，就能追上的。“\\n“拜拜，毛绒。我觉得它不想走。“\\n“它现在不走的话，就永远追不上了，小野雁应该跟家人在一起，毛毛。“\\n“那怎么办？“\\n“有办法了。“\\n“拜托不要飞的太高，不可以高过我的鼻子。“\\n“毛毛，你拥有惧高症，你都可以爬过火车站的屋顶了。“\",\n",
    "        \"“拜托不要飞的太高，不可以高过我的鼻子。“\\n“毛毛，你拥有惧高症，你都可以爬过火车站的屋顶了。“\\n“好吧，就这么办，让我们飞上天空吧。这不算高嘛！好吧，这就有点高了。“\\n“来吧，毛绒，该起飞了。这就对了。“\\n“别忘了，毛绒，要是你遇到麻烦，就呱呱求救。“\\n“拜，毛绒，一路顺风，你这只傻小雁。“\\n“你们今天表现得真是太棒了，真是一群乖狗狗。“\\n“我也会，怎么是只鸡呢？“\\n“哇，鸟类都很喜欢你的，毛毛。”\"\n",
    "    ],\n",
    "    ids=[\"id1\", \"id2\", \"id3\", \"id4\"],\n",
    "    metadatas=[{\"story_name\": \"走失的小野雁\"}, {\"story_name\": \"走失的小野雁\"}, {\"story_name\": \"走失的小野雁\"}, {\"story_name\": \"走失的小野雁\"}]\n",
    ")"
   ]
  },
  {
   "cell_type": "code",
   "execution_count": 12,
   "metadata": {},
   "outputs": [
    {
     "name": "stderr",
     "output_type": "stream",
     "text": [
      "[2024-09-10 12:12:45 - openai._base_client:446 - DEBUG] Request options: {'method': 'post', 'url': '/embeddings', 'files': None, 'post_parser': <function Embeddings.create.<locals>.parser at 0x1284ec5e0>, 'json_data': {'input': ['小野雁为什么要去南方'], 'model': 'embedding-3', 'encoding_format': 'base64'}}\n",
      "[2024-09-10 12:12:45 - openai._base_client:970 - DEBUG] Sending HTTP Request: POST https://open.bigmodel.cn/api/paas/v4/embeddings\n",
      "[2024-09-10 12:12:45 - httpx:1026 - INFO] HTTP Request: POST https://open.bigmodel.cn/api/paas/v4/embeddings \"HTTP/1.1 200 OK\"\n",
      "[2024-09-10 12:12:45 - openai._base_client:1009 - DEBUG] HTTP Response: POST https://open.bigmodel.cn/api/paas/v4/embeddings \"200 OK\" Headers([('date', 'Tue, 10 Sep 2024 04:12:45 GMT'), ('content-type', 'application/json; charset=UTF-8'), ('transfer-encoding', 'chunked'), ('connection', 'keep-alive'), ('vary', 'Accept-Encoding'), ('x-log-id', '202409101212458e0ec9b69cf140c9'), ('vary', 'Origin'), ('vary', 'Access-Control-Request-Method'), ('vary', 'Access-Control-Request-Headers'), ('strict-transport-security', 'max-age=31536000; includeSubDomains'), ('content-encoding', 'gzip')])\n",
      "[2024-09-10 12:12:45 - openai._base_client:1017 - DEBUG] request_id: None\n"
     ]
    }
   ],
   "source": [
    "# Use collection query\n",
    "\n",
    "embedding_response = collection.query(\n",
    "    query_texts=[\"小野雁为什么要去南方\"],\n",
    "    n_results=2,\n",
    "#    where={\"metadata_field\": \"is_equal_to_this\"},\n",
    "#    where_document={\"$contains\":\"search_string\"}\n",
    ")"
   ]
  },
  {
   "cell_type": "code",
   "execution_count": 13,
   "metadata": {},
   "outputs": [
    {
     "name": "stdout",
     "output_type": "stream",
     "text": [
      "{'ids': [['id3', 'id1']], 'distances': [[1.1420674519680463, 1.1524309184184003]], 'metadatas': [[{'story_name': '走失的小野雁'}, {'story_name': '走失的小野雁'}]], 'embeddings': None, 'documents': [['“快看上面。“\\n“那些海鸥在抢毛绒的面包。“\\n“不要欺负比你小的野雁了。“\\n“毛绒，快飞下来。“\\n“它不能飞，那个汽水灌的塑胶环套出它的翅膀。“\\n“它会摔下来。“\\n“毛毛，快，用你的梯子救毛绒下来。“\\n“火力全开，我来了，毛绒。“\\n“用你的头盔。“\\n“太好了，接的好，毛毛。我帮你拿掉塑胶环。“\\n“我没事。“\\n“毛绒，这是你的雁群，快点追上那群野雁吧。“\\n“别担心，毛绒，等你飞回北方，就能再见面了；等你往南迁移，也会再见的，然后，你又飞回北方。“\\n“毛毛，毛绒要快点走了，快去吧。你只拍动翅膀，就能追上的。“\\n“拜拜，毛绒。我觉得它不想走。“\\n“它现在不走的话，就永远追不上了，小野雁应该跟家人在一起，毛毛。“\\n“那怎么办？“\\n“有办法了。“\\n“拜托不要飞的太高，不可以高过我的鼻子。“\\n“毛毛，你拥有惧高症，你都可以爬过火车站的屋顶了。“', '“是野雁。“\\n“看到了吗？毛毛。“\\n“没有，但是他们已经就快到了。“\\n“用附近的树叶做窝，可以让飞来的野雁在这里睡觉。“\\n“他们也会饿，吃这个应该会吧。“\\n“面包，太棒了。“\\n“不是野雁，不是野雁，它绝对不是野雁。“\\n“那么那些呢？“\\n“没错，是野雁。“\\n“野雁来了。“\\n“野雁来了。” \\n“听到了。“\\n“他们喜欢你的窝，灰灰。“\\n“你要去哪里？小野雁。“\\n“我去救它，你没事吧，小小毛绒。嗨，你很适合叫毛绒。去找家人吧，毛绒。“\\n“做的好，毛毛。“\\n“毛毛，你交了永远的野雁朋友。“\\n“交了什么？“\\n“你交了一个好朋友了。“\\n“抱歉，毛绒。好了，毛绒，该去睡到稻草里了，或是窝里。我是可以陪你们一起睡在这里了，好了，但是就这一次哦。再见，野雁们，你们该走了，我们会想念你们的。毛绒呢？毛绒，你在哪里？它去哪里了？莱德，毛绒，它不见了。我们一定要在雁群离开前，找到它。“']], 'uris': None, 'data': None, 'included': ['metadatas', 'documents', 'distances']}\n"
     ]
    }
   ],
   "source": [
    "print(embedding_response)"
   ]
  },
  {
   "cell_type": "code",
   "execution_count": 19,
   "metadata": {},
   "outputs": [
    {
     "data": {
      "text/plain": [
       "2"
      ]
     },
     "execution_count": 19,
     "metadata": {},
     "output_type": "execute_result"
    }
   ],
   "source": [
    "len(embedding_response['documents'][0])"
   ]
  },
  {
   "cell_type": "code",
   "execution_count": 20,
   "metadata": {},
   "outputs": [
    {
     "name": "stdout",
     "output_type": "stream",
     "text": [
      "“快看上面。“\n",
      "“那些海鸥在抢毛绒的面包。“\n",
      "“不要欺负比你小的野雁了。“\n",
      "“毛绒，快飞下来。“\n",
      "“它不能飞，那个汽水灌的塑胶环套出它的翅膀。“\n",
      "“它会摔下来。“\n",
      "“毛毛，快，用你的梯子救毛绒下来。“\n",
      "“火力全开，我来了，毛绒。“\n",
      "“用你的头盔。“\n",
      "“太好了，接的好，毛毛。我帮你拿掉塑胶环。“\n",
      "“我没事。“\n",
      "“毛绒，这是你的雁群，快点追上那群野雁吧。“\n",
      "“别担心，毛绒，等你飞回北方，就能再见面了；等你往南迁移，也会再见的，然后，你又飞回北方。“\n",
      "“毛毛，毛绒要快点走了，快去吧。你只拍动翅膀，就能追上的。“\n",
      "“拜拜，毛绒。我觉得它不想走。“\n",
      "“它现在不走的话，就永远追不上了，小野雁应该跟家人在一起，毛毛。“\n",
      "“那怎么办？“\n",
      "“有办法了。“\n",
      "“拜托不要飞的太高，不可以高过我的鼻子。“\n",
      "“毛毛，你拥有惧高症，你都可以爬过火车站的屋顶了。“\n",
      "\n",
      "“是野雁。“\n",
      "“看到了吗？毛毛。“\n",
      "“没有，但是他们已经就快到了。“\n",
      "“用附近的树叶做窝，可以让飞来的野雁在这里睡觉。“\n",
      "“他们也会饿，吃这个应该会吧。“\n",
      "“面包，太棒了。“\n",
      "“不是野雁，不是野雁，它绝对不是野雁。“\n",
      "“那么那些呢？“\n",
      "“没错，是野雁。“\n",
      "“野雁来了。“\n",
      "“野雁来了。” \n",
      "“听到了。“\n",
      "“他们喜欢你的窝，灰灰。“\n",
      "“你要去哪里？小野雁。“\n",
      "“我去救它，你没事吧，小小毛绒。嗨，你很适合叫毛绒。去找家人吧，毛绒。“\n",
      "“做的好，毛毛。“\n",
      "“毛毛，你交了永远的野雁朋友。“\n",
      "“交了什么？“\n",
      "“你交了一个好朋友了。“\n",
      "“抱歉，毛绒。好了，毛绒，该去睡到稻草里了，或是窝里。我是可以陪你们一起睡在这里了，好了，但是就这一次哦。再见，野雁们，你们该走了，我们会想念你们的。毛绒呢？毛绒，你在哪里？它去哪里了？莱德，毛绒，它不见了。我们一定要在雁群离开前，找到它。“\n"
     ]
    }
   ],
   "source": [
    "context = \"\\n\\n\".join(doc for doc in embedding_response['documents'][0])\n",
    "print(context)"
   ]
  },
  {
   "cell_type": "code",
   "execution_count": 21,
   "metadata": {},
   "outputs": [
    {
     "name": "stderr",
     "output_type": "stream",
     "text": [
      "[2024-09-10 12:24:54 - openai._base_client:446 - DEBUG] Request options: {'method': 'post', 'url': '/chat/completions', 'files': None, 'json_data': {'messages': [{'role': 'user', 'content': \"\\nYou are an assistant for question-answering tasks. Use the following pieces of retrieved context to answer the question. If you don't know the answer, just say that you don't know. Use three sentences maximum and keep the answer concise.\\nQuestion: 小野雁为什么要去南方 \\nContext: “快看上面。“\\n“那些海鸥在抢毛绒的面包。“\\n“不要欺负比你小的野雁了。“\\n“毛绒，快飞下来。“\\n“它不能飞，那个汽水灌的塑胶环套出它的翅膀。“\\n“它会摔下来。“\\n“毛毛，快，用你的梯子救毛绒下来。“\\n“火力全开，我来了，毛绒。“\\n“用你的头盔。“\\n“太好了，接的好，毛毛。我帮你拿掉塑胶环。“\\n“我没事。“\\n“毛绒，这是你的雁群，快点追上那群野雁吧。“\\n“别担心，毛绒，等你飞回北方，就能再见面了；等你往南迁移，也会再见的，然后，你又飞回北方。“\\n“毛毛，毛绒要快点走了，快去吧。你只拍动翅膀，就能追上的。“\\n“拜拜，毛绒。我觉得它不想走。“\\n“它现在不走的话，就永远追不上了，小野雁应该跟家人在一起，毛毛。“\\n“那怎么办？“\\n“有办法了。“\\n“拜托不要飞的太高，不可以高过我的鼻子。“\\n“毛毛，你拥有惧高症，你都可以爬过火车站的屋顶了。“\\n\\n“是野雁。“\\n“看到了吗？毛毛。“\\n“没有，但是他们已经就快到了。“\\n“用附近的树叶做窝，可以让飞来的野雁在这里睡觉。“\\n“他们也会饿，吃这个应该会吧。“\\n“面包，太棒了。“\\n“不是野雁，不是野雁，它绝对不是野雁。“\\n“那么那些呢？“\\n“没错，是野雁。“\\n“野雁来了。“\\n“野雁来了。” \\n“听到了。“\\n“他们喜欢你的窝，灰灰。“\\n“你要去哪里？小野雁。“\\n“我去救它，你没事吧，小小毛绒。嗨，你很适合叫毛绒。去找家人吧，毛绒。“\\n“做的好，毛毛。“\\n“毛毛，你交了永远的野雁朋友。“\\n“交了什么？“\\n“你交了一个好朋友了。“\\n“抱歉，毛绒。好了，毛绒，该去睡到稻草里了，或是窝里。我是可以陪你们一起睡在这里了，好了，但是就这一次哦。再见，野雁们，你们该走了，我们会想念你们的。毛绒呢？毛绒，你在哪里？它去哪里了？莱德，毛绒，它不见了。我们一定要在雁群离开前，找到它。“ \\nAnswer:\\n\"}], 'model': 'GLM-4-AirX'}}\n",
      "[2024-09-10 12:24:54 - openai._base_client:970 - DEBUG] Sending HTTP Request: POST https://open.bigmodel.cn/api/paas/v4/chat/completions\n",
      "[2024-09-10 12:24:56 - httpx:1026 - INFO] HTTP Request: POST https://open.bigmodel.cn/api/paas/v4/chat/completions \"HTTP/1.1 200 OK\"\n",
      "[2024-09-10 12:24:56 - openai._base_client:1009 - DEBUG] HTTP Response: POST https://open.bigmodel.cn/api/paas/v4/chat/completions \"200 OK\" Headers([('date', 'Tue, 10 Sep 2024 04:24:56 GMT'), ('content-type', 'application/json; charset=UTF-8'), ('transfer-encoding', 'chunked'), ('connection', 'keep-alive'), ('set-cookie', 'acw_tc=2f6a1fa017259422948246967e522246a1c3be382d43f047815415f60b9908;path=/;HttpOnly;Max-Age=1800'), ('vary', 'Accept-Encoding'), ('x-log-id', '202409101224549292868bca334f37'), ('vary', 'Origin'), ('vary', 'Access-Control-Request-Method'), ('vary', 'Access-Control-Request-Headers'), ('strict-transport-security', 'max-age=31536000; includeSubDomains'), ('content-encoding', 'gzip')])\n",
      "[2024-09-10 12:24:56 - openai._base_client:1017 - DEBUG] request_id: None\n"
     ]
    }
   ],
   "source": [
    "# RAG\n",
    "from llm_client import zhipu_client\n",
    "\n",
    "\n",
    "rag_prompt = \"\"\"\n",
    "You are an assistant for question-answering tasks. Use the following pieces of retrieved context to answer the question. If you don't know the answer, just say that you don't know. Use three sentences maximum and keep the answer concise.\\nQuestion: {question} \\nContext: {context} \\nAnswer:\n",
    "\"\"\"\n",
    "\n",
    "user_message = rag_prompt.format(context=context, question=\"小野雁为什么要去南方\")\n",
    "\n",
    "completion = zhipu_client.chat.completions.create(\n",
    "    model=\"GLM-4-AirX\",\n",
    "    messages=[\n",
    "        {\"role\": \"user\", \"content\": user_message}\n",
    "    ]\n",
    ")"
   ]
  },
  {
   "cell_type": "code",
   "execution_count": 22,
   "metadata": {},
   "outputs": [
    {
     "name": "stdout",
     "output_type": "stream",
     "text": [
      "ChatCompletion(id='202409101224549292868bca334f37', choices=[Choice(finish_reason='stop', index=0, logprobs=None, message=ChatCompletionMessage(content='小野雁毛绒要去南方是因为它需要和雁群一起迁移，这是野雁的自然习性。毛绒之前因为一个塑胶环套在翅膀上无法飞行，但已经被救出，现在需要追上它的家人继续迁徙。南方是它们迁徙的目的地。', refusal=None, role='assistant', function_call=None, tool_calls=None))], created=1725942296, model='GLM-4-AirX', object=None, service_tier=None, system_fingerprint=None, usage=CompletionUsage(completion_tokens=59, prompt_tokens=624, total_tokens=683), request_id='202409101224549292868bca334f37')\n"
     ]
    }
   ],
   "source": [
    "print(completion)"
   ]
  },
  {
   "cell_type": "code",
   "execution_count": 23,
   "metadata": {},
   "outputs": [
    {
     "name": "stdout",
     "output_type": "stream",
     "text": [
      "小野雁毛绒要去南方是因为它需要和雁群一起迁移，这是野雁的自然习性。毛绒之前因为一个塑胶环套在翅膀上无法飞行，但已经被救出，现在需要追上它的家人继续迁徙。南方是它们迁徙的目的地。\n"
     ]
    }
   ],
   "source": [
    "print(completion.choices[0].message.content)"
   ]
  },
  {
   "cell_type": "code",
   "execution_count": 7,
   "metadata": {},
   "outputs": [
    {
     "name": "stderr",
     "output_type": "stream",
     "text": [
      "[2024-09-10 12:32:34 - httpx:80 - DEBUG] load_ssl_context verify=True cert=None trust_env=True http2=False\n",
      "[2024-09-10 12:32:34 - httpx:146 - DEBUG] load_verify_locations cafile='/Users/now/Documents/llm-code/children_ai_assistant/.venv/lib/python3.12/site-packages/certifi/cacert.pem'\n",
      "[2024-09-10 12:32:34 - httpx:80 - DEBUG] load_ssl_context verify=True cert=None trust_env=True http2=False\n",
      "[2024-09-10 12:32:34 - httpx:146 - DEBUG] load_verify_locations cafile='/Users/now/Documents/llm-code/children_ai_assistant/.venv/lib/python3.12/site-packages/certifi/cacert.pem'\n",
      "[2024-09-10 12:32:34 - httpx:80 - DEBUG] load_ssl_context verify=True cert=None trust_env=True http2=False\n",
      "[2024-09-10 12:32:34 - httpx:146 - DEBUG] load_verify_locations cafile='/Users/now/Documents/llm-code/children_ai_assistant/.venv/lib/python3.12/site-packages/certifi/cacert.pem'\n"
     ]
    }
   ],
   "source": [
    "# get connection from chroma after restart\n",
    "import chromadb\n",
    "import chromadb.utils.embedding_functions as embedding_functions\n",
    "import os\n",
    "\n",
    "openai_ef = embedding_functions.OpenAIEmbeddingFunction(\n",
    "                api_key=os.environ.get(\"ZHIPU_API_KEY\"),\n",
    "                api_base=\"https://open.bigmodel.cn/api/paas/v4/\",\n",
    "                model_name=\"embedding-3\"\n",
    "            )\n",
    "\n",
    "chroma_client = chromadb.PersistentClient()\n",
    "collection = chroma_client.get_collection(\"story_wangwangdui\", embedding_function=openai_ef)"
   ]
  },
  {
   "cell_type": "code",
   "execution_count": 8,
   "metadata": {},
   "outputs": [
    {
     "name": "stderr",
     "output_type": "stream",
     "text": [
      "[2024-09-10 12:32:43 - openai._base_client:446 - DEBUG] Request options: {'method': 'post', 'url': '/embeddings', 'files': None, 'post_parser': <function Embeddings.create.<locals>.parser at 0x136b4eac0>, 'json_data': {'input': ['小野雁为什么要去南方'], 'model': 'embedding-3', 'encoding_format': 'base64'}}\n",
      "[2024-09-10 12:32:43 - openai._base_client:970 - DEBUG] Sending HTTP Request: POST https://open.bigmodel.cn/api/paas/v4/embeddings\n",
      "[2024-09-10 12:32:43 - httpx:1026 - INFO] HTTP Request: POST https://open.bigmodel.cn/api/paas/v4/embeddings \"HTTP/1.1 200 OK\"\n",
      "[2024-09-10 12:32:43 - openai._base_client:1009 - DEBUG] HTTP Response: POST https://open.bigmodel.cn/api/paas/v4/embeddings \"200 OK\" Headers([('date', 'Tue, 10 Sep 2024 04:32:43 GMT'), ('content-type', 'application/json; charset=UTF-8'), ('transfer-encoding', 'chunked'), ('connection', 'keep-alive'), ('set-cookie', 'acw_tc=784e2c9717259427632362093e0211a5aa4f7e47a57eee4d27c43d07826494;path=/;HttpOnly;Max-Age=1800'), ('vary', 'Accept-Encoding'), ('x-log-id', '20240910123243247b142bfd6949fb'), ('vary', 'Origin'), ('vary', 'Access-Control-Request-Method'), ('vary', 'Access-Control-Request-Headers'), ('strict-transport-security', 'max-age=31536000; includeSubDomains'), ('content-encoding', 'gzip')])\n",
      "[2024-09-10 12:32:43 - openai._base_client:1017 - DEBUG] request_id: None\n"
     ]
    }
   ],
   "source": [
    "embedding_response = collection.query(\n",
    "    query_texts=[\"小野雁为什么要去南方\"],\n",
    "    n_results=2,\n",
    "#    where={\"metadata_field\": \"is_equal_to_this\"},\n",
    "#    where_document={\"$contains\":\"search_string\"}\n",
    ")"
   ]
  },
  {
   "cell_type": "code",
   "execution_count": 9,
   "metadata": {},
   "outputs": [
    {
     "name": "stdout",
     "output_type": "stream",
     "text": [
      "“快看上面。“\n",
      "“那些海鸥在抢毛绒的面包。“\n",
      "“不要欺负比你小的野雁了。“\n",
      "“毛绒，快飞下来。“\n",
      "“它不能飞，那个汽水灌的塑胶环套出它的翅膀。“\n",
      "“它会摔下来。“\n",
      "“毛毛，快，用你的梯子救毛绒下来。“\n",
      "“火力全开，我来了，毛绒。“\n",
      "“用你的头盔。“\n",
      "“太好了，接的好，毛毛。我帮你拿掉塑胶环。“\n",
      "“我没事。“\n",
      "“毛绒，这是你的雁群，快点追上那群野雁吧。“\n",
      "“别担心，毛绒，等你飞回北方，就能再见面了；等你往南迁移，也会再见的，然后，你又飞回北方。“\n",
      "“毛毛，毛绒要快点走了，快去吧。你只拍动翅膀，就能追上的。“\n",
      "“拜拜，毛绒。我觉得它不想走。“\n",
      "“它现在不走的话，就永远追不上了，小野雁应该跟家人在一起，毛毛。“\n",
      "“那怎么办？“\n",
      "“有办法了。“\n",
      "“拜托不要飞的太高，不可以高过我的鼻子。“\n",
      "“毛毛，你拥有惧高症，你都可以爬过火车站的屋顶了。“\n",
      "\n",
      "“是野雁。“\n",
      "“看到了吗？毛毛。“\n",
      "“没有，但是他们已经就快到了。“\n",
      "“用附近的树叶做窝，可以让飞来的野雁在这里睡觉。“\n",
      "“他们也会饿，吃这个应该会吧。“\n",
      "“面包，太棒了。“\n",
      "“不是野雁，不是野雁，它绝对不是野雁。“\n",
      "“那么那些呢？“\n",
      "“没错，是野雁。“\n",
      "“野雁来了。“\n",
      "“野雁来了。” \n",
      "“听到了。“\n",
      "“他们喜欢你的窝，灰灰。“\n",
      "“你要去哪里？小野雁。“\n",
      "“我去救它，你没事吧，小小毛绒。嗨，你很适合叫毛绒。去找家人吧，毛绒。“\n",
      "“做的好，毛毛。“\n",
      "“毛毛，你交了永远的野雁朋友。“\n",
      "“交了什么？“\n",
      "“你交了一个好朋友了。“\n",
      "“抱歉，毛绒。好了，毛绒，该去睡到稻草里了，或是窝里。我是可以陪你们一起睡在这里了，好了，但是就这一次哦。再见，野雁们，你们该走了，我们会想念你们的。毛绒呢？毛绒，你在哪里？它去哪里了？莱德，毛绒，它不见了。我们一定要在雁群离开前，找到它。“\n"
     ]
    }
   ],
   "source": [
    "context = \"\\n\\n\".join(doc for doc in embedding_response['documents'][0])\n",
    "print(context)"
   ]
  }
 ],
 "metadata": {
  "kernelspec": {
   "display_name": ".venv",
   "language": "python",
   "name": "python3"
  },
  "language_info": {
   "codemirror_mode": {
    "name": "ipython",
    "version": 3
   },
   "file_extension": ".py",
   "mimetype": "text/x-python",
   "name": "python",
   "nbconvert_exporter": "python",
   "pygments_lexer": "ipython3",
   "version": "3.12.4"
  }
 },
 "nbformat": 4,
 "nbformat_minor": 2
}
